{
 "cells": [
  {
   "cell_type": "markdown",
   "metadata": {},
   "source": [
    "## This notebook is ran once to generate the qza files used for expectedresults in unit tests for establish_dataset"
   ]
  },
  {
   "cell_type": "code",
   "execution_count": 3,
   "metadata": {},
   "outputs": [
    {
     "name": "stdout",
     "output_type": "stream",
     "text": [
      "Importing data for expected\n",
      "Importing metadata for expected\n",
      "Demuxing for expected\n"
     ]
    }
   ],
   "source": [
    "from qiime2 import Artifact\n",
    "from qiime2 import Metadata\n",
    "from qiime2.plugins.demux.methods import emp_single\n",
    "from qiime2.plugins.quality_filter.methods import q_score\n",
    "from qiime2.plugins.deblur.methods import denoise_16S\n",
    "import pandas as pd\n",
    "import wget\n",
    "import biom\n",
    "import os\n",
    "\n",
    "print(\"Importing data for expected\")\n",
    "exp_seqs = Artifact.import_data(\"EMPSingleEndSequences\",\n",
    "                                     \"data/mock-3/emp-single-end-sequences\")\n",
    "\n",
    "print(\"Importing metadata for expected\")\n",
    "exp_barcode_metadata = \\\n",
    "    Metadata.load(\"data/mock-3/sample-metadata.tsv\")\n",
    "\n",
    "print(\"Demuxing for expected\")\n",
    "exp_demux, = emp_single(exp_seqs,\n",
    "                             exp_barcode_metadata.get_category(\n",
    "                                 \"BarcodeSequence\"))"
   ]
  },
  {
   "cell_type": "code",
   "execution_count": 5,
   "metadata": {},
   "outputs": [
    {
     "name": "stdout",
     "output_type": "stream",
     "text": [
      "Quality filtering (with default params)\n",
      "Deblur-ing with trim length 150\n"
     ]
    }
   ],
   "source": [
    "print(\"Quality filtering (with default params)\")\n",
    "demuxed_qfiltered, demuxed_qf_stats = q_score(exp_demux)\n",
    "\n",
    "print(\"Deblur-ing with trim length {:d}\".format(150))\n",
    "deblurred, repseq, deblur_stats = denoise_16S(demuxed_qfiltered, 150,\n",
    "                                              hashed_feature_ids = False)"
   ]
  },
  {
   "cell_type": "code",
   "execution_count": 7,
   "metadata": {},
   "outputs": [
    {
     "name": "stdout",
     "output_type": "stream",
     "text": [
      "Trimming post-demuxed seqs to 100\n"
     ]
    }
   ],
   "source": [
    "# generate post trimmed expected\n",
    "print(\"Trimming post-demuxed seqs to {:d}\".format(100))\n",
    "\n",
    "demuxed_biom = deblurred.view(biom.Table)\n",
    "post_trimmed_biom = demuxed_biom.collapse(lambda i, m:i[:100], axis=\"observation\")\n",
    "post_trimmed = Artifact.import_data(\"FeatureTable[Frequency]\", post_trimmed_biom);"
   ]
  },
  {
   "cell_type": "code",
   "execution_count": 15,
   "metadata": {},
   "outputs": [
    {
     "data": {
      "text/plain": [
       "'deblurred_150nt.qza'"
      ]
     },
     "execution_count": 15,
     "metadata": {},
     "output_type": "execute_result"
    }
   ],
   "source": [
    "deblurred.save(\"deblurred_150nt.qza\")"
   ]
  },
  {
   "cell_type": "code",
   "execution_count": 16,
   "metadata": {
    "collapsed": true
   },
   "outputs": [],
   "source": [
    "deblurred_cpy = Artifact.load(\"deblurred_150nt.qza\")"
   ]
  },
  {
   "cell_type": "code",
   "execution_count": 17,
   "metadata": {},
   "outputs": [
    {
     "data": {
      "text/plain": [
       "True"
      ]
     },
     "execution_count": 17,
     "metadata": {},
     "output_type": "execute_result"
    }
   ],
   "source": [
    "deblurred_cpy == deblurred"
   ]
  },
  {
   "cell_type": "code",
   "execution_count": 18,
   "metadata": {},
   "outputs": [
    {
     "data": {
      "text/plain": [
       "'deblurred_100nt_post_trim.qza'"
      ]
     },
     "execution_count": 18,
     "metadata": {},
     "output_type": "execute_result"
    }
   ],
   "source": [
    "post_trimmed.save(\"deblurred_100nt_post_trim.qza\")"
   ]
  },
  {
   "cell_type": "code",
   "execution_count": 21,
   "metadata": {},
   "outputs": [
    {
     "data": {
      "text/plain": [
       "<artifact: FeatureTable[Frequency] uuid: cf5de485-0ef3-491e-a8e6-1708f7feedcd>"
      ]
     },
     "execution_count": 21,
     "metadata": {},
     "output_type": "execute_result"
    }
   ],
   "source": [
    "pt_cpy = Artifact.load(\"deblurred_100nt_post_trim.qza\")\n",
    "pt_cpy"
   ]
  },
  {
   "cell_type": "code",
   "execution_count": 4,
   "metadata": {},
   "outputs": [
    {
     "data": {
      "text/plain": [
       "'data/mock-3/exp_demux.qza'"
      ]
     },
     "execution_count": 4,
     "metadata": {},
     "output_type": "execute_result"
    }
   ],
   "source": [
    "exp_demux.save(\"data/mock-3/exp_demux.qza\")"
   ]
  },
  {
   "cell_type": "code",
   "execution_count": null,
   "metadata": {
    "collapsed": true
   },
   "outputs": [],
   "source": [
    "exp_barcode_metadata.s"
   ]
  }
 ],
 "metadata": {
  "kernelspec": {
   "display_name": "Python [conda env:qiime2-2017.11]",
   "language": "python",
   "name": "conda-env-qiime2-2017.11-py"
  },
  "language_info": {
   "codemirror_mode": {
    "name": "ipython",
    "version": 3
   },
   "file_extension": ".py",
   "mimetype": "text/x-python",
   "name": "python",
   "nbconvert_exporter": "python",
   "pygments_lexer": "ipython3",
   "version": "3.5.4"
  }
 },
 "nbformat": 4,
 "nbformat_minor": 2
}

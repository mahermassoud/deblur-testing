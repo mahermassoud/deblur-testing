{
 "cells": [
  {
   "cell_type": "markdown",
   "metadata": {},
   "source": [
    "This is a notebook in which we will investigate whether a non-positional error model in deblur makes sense for short reads. It will consist of the following steps:\n",
    "\n",
    "### (On a dataset)\n",
    "1. Run deblur without hashing or trimming\n",
    "2. Convert q2-deblur artifact to BIOM table\n",
    "3. Trim using Table.collapse\n",
    "4. On the same dataset, run deblur with trimming\n",
    "5. Compare results of 3 and 4\n",
    "\n",
    "Then, repeat steps 1-5 on many datsets on many lenghts and plot/examine results. Datasets to be pulled from mock community data"
   ]
  },
  {
   "cell_type": "code",
   "execution_count": 1,
   "metadata": {},
   "outputs": [
    {
     "ename": "TypeError",
     "evalue": "Visualizer callable cannot return anything. Its return annotation must be `None`, not <class 'pandas.core.frame.DataFrame'>. Write output to `output_dir`.",
     "output_type": "error",
     "traceback": [
      "\u001b[0;31m---------------------------------------------------------------------------\u001b[0m",
      "\u001b[0;31mTypeError\u001b[0m                                 Traceback (most recent call last)",
      "\u001b[0;32m<ipython-input-1-23fb6579d830>\u001b[0m in \u001b[0;36m<module>\u001b[0;34m()\u001b[0m\n\u001b[0;32m----> 1\u001b[0;31m \u001b[0;32mfrom\u001b[0m \u001b[0mqiime2\u001b[0m\u001b[0;34m.\u001b[0m\u001b[0mplugins\u001b[0m \u001b[0;32mimport\u001b[0m \u001b[0mdemux\u001b[0m\u001b[0;34m\u001b[0m\u001b[0m\n\u001b[0m\u001b[1;32m      2\u001b[0m \u001b[0;32mfrom\u001b[0m \u001b[0mqiime2\u001b[0m \u001b[0;32mimport\u001b[0m \u001b[0mArtifact\u001b[0m\u001b[0;34m\u001b[0m\u001b[0m\n\u001b[1;32m      3\u001b[0m \u001b[0;32mfrom\u001b[0m \u001b[0mqiime2\u001b[0m \u001b[0;32mimport\u001b[0m \u001b[0mMetadataCategory\u001b[0m\u001b[0;34m\u001b[0m\u001b[0m\n\u001b[1;32m      4\u001b[0m \u001b[0;32mimport\u001b[0m \u001b[0mqiime2\u001b[0m\u001b[0;34m\u001b[0m\u001b[0m\n\u001b[1;32m      5\u001b[0m \u001b[0;34m\u001b[0m\u001b[0m\n",
      "\u001b[0;32m/anaconda3/envs/qiime2-demux/lib/python3.5/importlib/_bootstrap.py\u001b[0m in \u001b[0;36m_find_and_load\u001b[0;34m(name, import_)\u001b[0m\n",
      "\u001b[0;32m/anaconda3/envs/qiime2-demux/lib/python3.5/importlib/_bootstrap.py\u001b[0m in \u001b[0;36m_find_and_load_unlocked\u001b[0;34m(name, import_)\u001b[0m\n",
      "\u001b[0;32m/anaconda3/envs/qiime2-demux/lib/python3.5/importlib/_bootstrap.py\u001b[0m in \u001b[0;36m_find_spec\u001b[0;34m(name, path, target)\u001b[0m\n",
      "\u001b[0;32m/anaconda3/envs/qiime2-demux/lib/python3.5/site-packages/qiime2/plugins.py\u001b[0m in \u001b[0;36mfind_spec\u001b[0;34m(self, name, path, target)\u001b[0m\n\u001b[1;32m     46\u001b[0m         \u001b[0mplugin_name\u001b[0m \u001b[0;34m=\u001b[0m \u001b[0mplugin_details\u001b[0m\u001b[0;34m[\u001b[0m\u001b[0;36m0\u001b[0m\u001b[0;34m]\u001b[0m\u001b[0;34m\u001b[0m\u001b[0m\n\u001b[1;32m     47\u001b[0m \u001b[0;34m\u001b[0m\u001b[0m\n\u001b[0;32m---> 48\u001b[0;31m         \u001b[0mplugin\u001b[0m \u001b[0;34m=\u001b[0m \u001b[0mself\u001b[0m\u001b[0;34m.\u001b[0m\u001b[0m_plugin_lookup\u001b[0m\u001b[0;34m(\u001b[0m\u001b[0mplugin_name\u001b[0m\u001b[0;34m)\u001b[0m\u001b[0;34m\u001b[0m\u001b[0m\n\u001b[0m\u001b[1;32m     49\u001b[0m         \u001b[0;32mif\u001b[0m \u001b[0mplugin\u001b[0m \u001b[0;32mis\u001b[0m \u001b[0;32mNone\u001b[0m \u001b[0;32mor\u001b[0m \u001b[0mlen\u001b[0m\u001b[0;34m(\u001b[0m\u001b[0mplugin_details\u001b[0m\u001b[0;34m)\u001b[0m \u001b[0;34m>\u001b[0m \u001b[0;36m2\u001b[0m\u001b[0;34m:\u001b[0m\u001b[0;34m\u001b[0m\u001b[0m\n\u001b[1;32m     50\u001b[0m             \u001b[0;32mreturn\u001b[0m \u001b[0;32mNone\u001b[0m\u001b[0;34m\u001b[0m\u001b[0m\n",
      "\u001b[0;32m/anaconda3/envs/qiime2-demux/lib/python3.5/site-packages/qiime2/plugins.py\u001b[0m in \u001b[0;36m_plugin_lookup\u001b[0;34m(self, plugin_name)\u001b[0m\n\u001b[1;32m     23\u001b[0m     \u001b[0;32mdef\u001b[0m \u001b[0m_plugin_lookup\u001b[0m\u001b[0;34m(\u001b[0m\u001b[0mself\u001b[0m\u001b[0;34m,\u001b[0m \u001b[0mplugin_name\u001b[0m\u001b[0;34m)\u001b[0m\u001b[0;34m:\u001b[0m\u001b[0;34m\u001b[0m\u001b[0m\n\u001b[1;32m     24\u001b[0m         \u001b[0;32mimport\u001b[0m \u001b[0mqiime2\u001b[0m\u001b[0;34m.\u001b[0m\u001b[0msdk\u001b[0m\u001b[0;34m\u001b[0m\u001b[0m\n\u001b[0;32m---> 25\u001b[0;31m         \u001b[0mpm\u001b[0m \u001b[0;34m=\u001b[0m \u001b[0mqiime2\u001b[0m\u001b[0;34m.\u001b[0m\u001b[0msdk\u001b[0m\u001b[0;34m.\u001b[0m\u001b[0mPluginManager\u001b[0m\u001b[0;34m(\u001b[0m\u001b[0;34m)\u001b[0m\u001b[0;34m\u001b[0m\u001b[0m\n\u001b[0m\u001b[1;32m     26\u001b[0m         \u001b[0mlookup\u001b[0m \u001b[0;34m=\u001b[0m \u001b[0;34m{\u001b[0m\u001b[0ms\u001b[0m\u001b[0;34m.\u001b[0m\u001b[0mreplace\u001b[0m\u001b[0;34m(\u001b[0m\u001b[0;34m'-'\u001b[0m\u001b[0;34m,\u001b[0m \u001b[0;34m'_'\u001b[0m\u001b[0;34m)\u001b[0m\u001b[0;34m:\u001b[0m \u001b[0ms\u001b[0m \u001b[0;32mfor\u001b[0m \u001b[0ms\u001b[0m \u001b[0;32min\u001b[0m \u001b[0mpm\u001b[0m\u001b[0;34m.\u001b[0m\u001b[0mplugins\u001b[0m\u001b[0;34m}\u001b[0m\u001b[0;34m\u001b[0m\u001b[0m\n\u001b[1;32m     27\u001b[0m         \u001b[0;32mif\u001b[0m \u001b[0mplugin_name\u001b[0m \u001b[0;32mnot\u001b[0m \u001b[0;32min\u001b[0m \u001b[0mlookup\u001b[0m\u001b[0;34m:\u001b[0m\u001b[0;34m\u001b[0m\u001b[0m\n",
      "\u001b[0;32m/anaconda3/envs/qiime2-demux/lib/python3.5/site-packages/qiime2/sdk/plugin_manager.py\u001b[0m in \u001b[0;36m__new__\u001b[0;34m(cls)\u001b[0m\n\u001b[1;32m     42\u001b[0m         \u001b[0;32mif\u001b[0m \u001b[0mcls\u001b[0m\u001b[0;34m.\u001b[0m\u001b[0m__instance\u001b[0m \u001b[0;32mis\u001b[0m \u001b[0;32mNone\u001b[0m\u001b[0;34m:\u001b[0m\u001b[0;34m\u001b[0m\u001b[0m\n\u001b[1;32m     43\u001b[0m             \u001b[0mself\u001b[0m \u001b[0;34m=\u001b[0m \u001b[0msuper\u001b[0m\u001b[0;34m(\u001b[0m\u001b[0;34m)\u001b[0m\u001b[0;34m.\u001b[0m\u001b[0m__new__\u001b[0m\u001b[0;34m(\u001b[0m\u001b[0mcls\u001b[0m\u001b[0;34m)\u001b[0m\u001b[0;34m\u001b[0m\u001b[0m\n\u001b[0;32m---> 44\u001b[0;31m             \u001b[0mself\u001b[0m\u001b[0;34m.\u001b[0m\u001b[0m_init\u001b[0m\u001b[0;34m(\u001b[0m\u001b[0;34m)\u001b[0m\u001b[0;34m\u001b[0m\u001b[0m\n\u001b[0m\u001b[1;32m     45\u001b[0m             \u001b[0mcls\u001b[0m\u001b[0;34m.\u001b[0m\u001b[0m__instance\u001b[0m \u001b[0;34m=\u001b[0m \u001b[0mself\u001b[0m\u001b[0;34m\u001b[0m\u001b[0m\n\u001b[1;32m     46\u001b[0m         \u001b[0;32mreturn\u001b[0m \u001b[0mcls\u001b[0m\u001b[0;34m.\u001b[0m\u001b[0m__instance\u001b[0m\u001b[0;34m\u001b[0m\u001b[0m\n",
      "\u001b[0;32m/anaconda3/envs/qiime2-demux/lib/python3.5/site-packages/qiime2/sdk/plugin_manager.py\u001b[0m in \u001b[0;36m_init\u001b[0;34m(self)\u001b[0m\n\u001b[1;32m     56\u001b[0m         \u001b[0;31m# be completed.\u001b[0m\u001b[0;34m\u001b[0m\u001b[0;34m\u001b[0m\u001b[0m\n\u001b[1;32m     57\u001b[0m         \u001b[0;32mfor\u001b[0m \u001b[0mentry_point\u001b[0m \u001b[0;32min\u001b[0m \u001b[0mself\u001b[0m\u001b[0;34m.\u001b[0m\u001b[0miter_entry_points\u001b[0m\u001b[0;34m(\u001b[0m\u001b[0;34m)\u001b[0m\u001b[0;34m:\u001b[0m\u001b[0;34m\u001b[0m\u001b[0m\n\u001b[0;32m---> 58\u001b[0;31m             \u001b[0mplugin\u001b[0m \u001b[0;34m=\u001b[0m \u001b[0mentry_point\u001b[0m\u001b[0;34m.\u001b[0m\u001b[0mload\u001b[0m\u001b[0;34m(\u001b[0m\u001b[0;34m)\u001b[0m\u001b[0;34m\u001b[0m\u001b[0m\n\u001b[0m\u001b[1;32m     59\u001b[0m             \u001b[0mself\u001b[0m\u001b[0;34m.\u001b[0m\u001b[0mplugins\u001b[0m\u001b[0;34m[\u001b[0m\u001b[0mplugin\u001b[0m\u001b[0;34m.\u001b[0m\u001b[0mname\u001b[0m\u001b[0;34m]\u001b[0m \u001b[0;34m=\u001b[0m \u001b[0mplugin\u001b[0m\u001b[0;34m\u001b[0m\u001b[0m\n\u001b[1;32m     60\u001b[0m \u001b[0;34m\u001b[0m\u001b[0m\n",
      "\u001b[0;32m/anaconda3/envs/qiime2-demux/lib/python3.5/site-packages/pkg_resources/__init__.py\u001b[0m in \u001b[0;36mload\u001b[0;34m(self, require, *args, **kwargs)\u001b[0m\n\u001b[1;32m   2406\u001b[0m         \u001b[0;32mif\u001b[0m \u001b[0mrequire\u001b[0m\u001b[0;34m:\u001b[0m\u001b[0;34m\u001b[0m\u001b[0m\n\u001b[1;32m   2407\u001b[0m             \u001b[0mself\u001b[0m\u001b[0;34m.\u001b[0m\u001b[0mrequire\u001b[0m\u001b[0;34m(\u001b[0m\u001b[0;34m*\u001b[0m\u001b[0margs\u001b[0m\u001b[0;34m,\u001b[0m \u001b[0;34m**\u001b[0m\u001b[0mkwargs\u001b[0m\u001b[0;34m)\u001b[0m\u001b[0;34m\u001b[0m\u001b[0m\n\u001b[0;32m-> 2408\u001b[0;31m         \u001b[0;32mreturn\u001b[0m \u001b[0mself\u001b[0m\u001b[0;34m.\u001b[0m\u001b[0mresolve\u001b[0m\u001b[0;34m(\u001b[0m\u001b[0;34m)\u001b[0m\u001b[0;34m\u001b[0m\u001b[0m\n\u001b[0m\u001b[1;32m   2409\u001b[0m \u001b[0;34m\u001b[0m\u001b[0m\n\u001b[1;32m   2410\u001b[0m     \u001b[0;32mdef\u001b[0m \u001b[0mresolve\u001b[0m\u001b[0;34m(\u001b[0m\u001b[0mself\u001b[0m\u001b[0;34m)\u001b[0m\u001b[0;34m:\u001b[0m\u001b[0;34m\u001b[0m\u001b[0m\n",
      "\u001b[0;32m/anaconda3/envs/qiime2-demux/lib/python3.5/site-packages/pkg_resources/__init__.py\u001b[0m in \u001b[0;36mresolve\u001b[0;34m(self)\u001b[0m\n\u001b[1;32m   2412\u001b[0m         \u001b[0mResolve\u001b[0m \u001b[0mthe\u001b[0m \u001b[0mentry\u001b[0m \u001b[0mpoint\u001b[0m \u001b[0;32mfrom\u001b[0m \u001b[0mits\u001b[0m \u001b[0mmodule\u001b[0m \u001b[0;32mand\u001b[0m \u001b[0mattrs\u001b[0m\u001b[0;34m.\u001b[0m\u001b[0;34m\u001b[0m\u001b[0m\n\u001b[1;32m   2413\u001b[0m         \"\"\"\n\u001b[0;32m-> 2414\u001b[0;31m         \u001b[0mmodule\u001b[0m \u001b[0;34m=\u001b[0m \u001b[0m__import__\u001b[0m\u001b[0;34m(\u001b[0m\u001b[0mself\u001b[0m\u001b[0;34m.\u001b[0m\u001b[0mmodule_name\u001b[0m\u001b[0;34m,\u001b[0m \u001b[0mfromlist\u001b[0m\u001b[0;34m=\u001b[0m\u001b[0;34m[\u001b[0m\u001b[0;34m'__name__'\u001b[0m\u001b[0;34m]\u001b[0m\u001b[0;34m,\u001b[0m \u001b[0mlevel\u001b[0m\u001b[0;34m=\u001b[0m\u001b[0;36m0\u001b[0m\u001b[0;34m)\u001b[0m\u001b[0;34m\u001b[0m\u001b[0m\n\u001b[0m\u001b[1;32m   2415\u001b[0m         \u001b[0;32mtry\u001b[0m\u001b[0;34m:\u001b[0m\u001b[0;34m\u001b[0m\u001b[0m\n\u001b[1;32m   2416\u001b[0m             \u001b[0;32mreturn\u001b[0m \u001b[0mfunctools\u001b[0m\u001b[0;34m.\u001b[0m\u001b[0mreduce\u001b[0m\u001b[0;34m(\u001b[0m\u001b[0mgetattr\u001b[0m\u001b[0;34m,\u001b[0m \u001b[0mself\u001b[0m\u001b[0;34m.\u001b[0m\u001b[0mattrs\u001b[0m\u001b[0;34m,\u001b[0m \u001b[0mmodule\u001b[0m\u001b[0;34m)\u001b[0m\u001b[0;34m\u001b[0m\u001b[0m\n",
      "\u001b[0;32m~/Documents/q2-demux/q2_demux/plugin_setup.py\u001b[0m in \u001b[0;36m<module>\u001b[0;34m()\u001b[0m\n\u001b[1;32m    144\u001b[0m     },\n\u001b[1;32m    145\u001b[0m     \u001b[0mname\u001b[0m\u001b[0;34m=\u001b[0m\u001b[0;34m'Summarize counts per sample.'\u001b[0m\u001b[0;34m,\u001b[0m\u001b[0;34m\u001b[0m\u001b[0m\n\u001b[0;32m--> 146\u001b[0;31m     description=('Summarize counts per sample for all samples, and generate '\n\u001b[0m\u001b[1;32m    147\u001b[0m                  \u001b[0;34m'interactive positional quality plots based on `n` randomly '\u001b[0m\u001b[0;34m\u001b[0m\u001b[0m\n\u001b[1;32m    148\u001b[0m                  'selected sequences.')\n",
      "\u001b[0;32m/anaconda3/envs/qiime2-demux/lib/python3.5/site-packages/qiime2/plugin/plugin.py\u001b[0m in \u001b[0;36mregister_function\u001b[0;34m(self, function, inputs, parameters, name, description, input_descriptions, parameter_descriptions)\u001b[0m\n\u001b[1;32m    223\u001b[0m                                                  \u001b[0mdescription\u001b[0m\u001b[0;34m,\u001b[0m\u001b[0;34m\u001b[0m\u001b[0m\n\u001b[1;32m    224\u001b[0m                                                  \u001b[0minput_descriptions\u001b[0m\u001b[0;34m,\u001b[0m\u001b[0;34m\u001b[0m\u001b[0m\n\u001b[0;32m--> 225\u001b[0;31m                                                  parameter_descriptions)\n\u001b[0m\u001b[1;32m    226\u001b[0m         \u001b[0mself\u001b[0m\u001b[0;34m[\u001b[0m\u001b[0mvisualizer\u001b[0m\u001b[0;34m.\u001b[0m\u001b[0mid\u001b[0m\u001b[0;34m]\u001b[0m \u001b[0;34m=\u001b[0m \u001b[0mvisualizer\u001b[0m\u001b[0;34m\u001b[0m\u001b[0m\n\u001b[1;32m    227\u001b[0m \u001b[0;34m\u001b[0m\u001b[0m\n",
      "\u001b[0;32m/anaconda3/envs/qiime2-demux/lib/python3.5/site-packages/qiime2/sdk/action.py\u001b[0m in \u001b[0;36m_init\u001b[0;34m(cls, callable, inputs, parameters, package, name, description, input_descriptions, parameter_descriptions)\u001b[0m\n\u001b[1;32m    439\u001b[0m         signature = qtype.VisualizerSignature(callable, inputs, parameters,\n\u001b[1;32m    440\u001b[0m                                               \u001b[0minput_descriptions\u001b[0m\u001b[0;34m,\u001b[0m\u001b[0;34m\u001b[0m\u001b[0m\n\u001b[0;32m--> 441\u001b[0;31m                                               parameter_descriptions)\n\u001b[0m\u001b[1;32m    442\u001b[0m         \u001b[0;32mreturn\u001b[0m \u001b[0msuper\u001b[0m\u001b[0;34m(\u001b[0m\u001b[0;34m)\u001b[0m\u001b[0;34m.\u001b[0m\u001b[0m_init\u001b[0m\u001b[0;34m(\u001b[0m\u001b[0mcallable\u001b[0m\u001b[0;34m,\u001b[0m \u001b[0msignature\u001b[0m\u001b[0;34m,\u001b[0m \u001b[0mpackage\u001b[0m\u001b[0;34m,\u001b[0m \u001b[0mname\u001b[0m\u001b[0;34m,\u001b[0m \u001b[0mdescription\u001b[0m\u001b[0;34m)\u001b[0m\u001b[0;34m\u001b[0m\u001b[0m\n\u001b[1;32m    443\u001b[0m \u001b[0;34m\u001b[0m\u001b[0m\n",
      "\u001b[0;32m/anaconda3/envs/qiime2-demux/lib/python3.5/site-packages/qiime2/core/type/signature.py\u001b[0m in \u001b[0;36m__init__\u001b[0;34m(self, callable, inputs, parameters, input_descriptions, parameter_descriptions)\u001b[0m\n\u001b[1;32m    365\u001b[0m         super().__init__(callable, inputs, parameters, outputs,\n\u001b[1;32m    366\u001b[0m                          \u001b[0minput_descriptions\u001b[0m\u001b[0;34m,\u001b[0m \u001b[0mparameter_descriptions\u001b[0m\u001b[0;34m,\u001b[0m\u001b[0;34m\u001b[0m\u001b[0m\n\u001b[0;32m--> 367\u001b[0;31m                          output_descriptions)\n\u001b[0m\u001b[1;32m    368\u001b[0m \u001b[0;34m\u001b[0m\u001b[0m\n\u001b[1;32m    369\u001b[0m     \u001b[0;32mdef\u001b[0m \u001b[0m_assert_valid_outputs\u001b[0m\u001b[0;34m(\u001b[0m\u001b[0mself\u001b[0m\u001b[0;34m,\u001b[0m \u001b[0moutputs\u001b[0m\u001b[0;34m)\u001b[0m\u001b[0;34m:\u001b[0m\u001b[0;34m\u001b[0m\u001b[0m\n",
      "\u001b[0;32m/anaconda3/envs/qiime2-demux/lib/python3.5/site-packages/qiime2/core/type/signature.py\u001b[0m in \u001b[0;36m__init__\u001b[0;34m(self, callable, inputs, parameters, outputs, input_descriptions, parameter_descriptions, output_descriptions)\u001b[0m\n\u001b[1;32m    104\u001b[0m         \u001b[0mself\u001b[0m\u001b[0;34m.\u001b[0m\u001b[0m_assert_valid_inputs\u001b[0m\u001b[0;34m(\u001b[0m\u001b[0minputs\u001b[0m\u001b[0;34m)\u001b[0m\u001b[0;34m\u001b[0m\u001b[0m\n\u001b[1;32m    105\u001b[0m         \u001b[0mself\u001b[0m\u001b[0;34m.\u001b[0m\u001b[0m_assert_valid_parameters\u001b[0m\u001b[0;34m(\u001b[0m\u001b[0mparameters\u001b[0m\u001b[0;34m)\u001b[0m\u001b[0;34m\u001b[0m\u001b[0m\n\u001b[0;32m--> 106\u001b[0;31m         \u001b[0mself\u001b[0m\u001b[0;34m.\u001b[0m\u001b[0m_assert_valid_outputs\u001b[0m\u001b[0;34m(\u001b[0m\u001b[0moutputs\u001b[0m\u001b[0;34m)\u001b[0m\u001b[0;34m\u001b[0m\u001b[0m\n\u001b[0m\u001b[1;32m    107\u001b[0m         \u001b[0mself\u001b[0m\u001b[0;34m.\u001b[0m\u001b[0m_assert_valid_views\u001b[0m\u001b[0;34m(\u001b[0m\u001b[0minputs\u001b[0m\u001b[0;34m,\u001b[0m \u001b[0mparameters\u001b[0m\u001b[0;34m,\u001b[0m \u001b[0moutputs\u001b[0m\u001b[0;34m)\u001b[0m\u001b[0;34m\u001b[0m\u001b[0m\n\u001b[1;32m    108\u001b[0m \u001b[0;34m\u001b[0m\u001b[0m\n",
      "\u001b[0;32m/anaconda3/envs/qiime2-demux/lib/python3.5/site-packages/qiime2/core/type/signature.py\u001b[0m in \u001b[0;36m_assert_valid_outputs\u001b[0;34m(self, outputs)\u001b[0m\n\u001b[1;32m    374\u001b[0m                 \u001b[0;34m\"Visualizer callable cannot return anything. Its return \"\u001b[0m\u001b[0;34m\u001b[0m\u001b[0m\n\u001b[1;32m    375\u001b[0m                 \u001b[0;34m\"annotation must be `None`, not %r. Write output to \"\u001b[0m\u001b[0;34m\u001b[0m\u001b[0m\n\u001b[0;32m--> 376\u001b[0;31m                 \"`output_dir`.\" % output.view_type)\n\u001b[0m\u001b[1;32m    377\u001b[0m \u001b[0;34m\u001b[0m\u001b[0m\n\u001b[1;32m    378\u001b[0m     \u001b[0;32mdef\u001b[0m \u001b[0m_assert_valid_views\u001b[0m\u001b[0;34m(\u001b[0m\u001b[0mself\u001b[0m\u001b[0;34m,\u001b[0m \u001b[0minputs\u001b[0m\u001b[0;34m,\u001b[0m \u001b[0mparameters\u001b[0m\u001b[0;34m,\u001b[0m \u001b[0moutputs\u001b[0m\u001b[0;34m)\u001b[0m\u001b[0;34m:\u001b[0m\u001b[0;34m\u001b[0m\u001b[0m\n",
      "\u001b[0;31mTypeError\u001b[0m: Visualizer callable cannot return anything. Its return annotation must be `None`, not <class 'pandas.core.frame.DataFrame'>. Write output to `output_dir`."
     ]
    }
   ],
   "source": [
    "from qiime2.plugins import demux\n",
    "from qiime2 import Artifact\n",
    "from qiime2 import MetadataCategory\n",
    "import qiime2\n",
    "\n",
    "DATASET_ROOT = \"/Users/massoudmaher/Documents/Code/mockrobiota/data\"\n",
    "MP_PATH = \"/Users/massoudmaher/Documents/Code/qiime2-moving-pictures-tutorial\"\n",
    "\n",
    "single_end_seq = Artifact.load(MP_PATH + \"/emp-single-end-sequences.qza\")\n",
    "barcodes = MetadataCategory.load(\"\")\n",
    "demuxed = demux.methods.emp_single(single_end_seq, )"
   ]
  },
  {
   "cell_type": "code",
   "execution_count": 11,
   "metadata": {},
   "outputs": [],
   "source": [
    "from qiime2.plugins.demux.methods import emp_single"
   ]
  },
  {
   "cell_type": "code",
   "execution_count": 12,
   "metadata": {},
   "outputs": [],
   "source": [
    "emp_single?"
   ]
  },
  {
   "cell_type": "code",
   "execution_count": 14,
   "metadata": {},
   "outputs": [],
   "source": [
    "from qiime2 import MetadataCategory"
   ]
  },
  {
   "cell_type": "code",
   "execution_count": null,
   "metadata": {},
   "outputs": [],
   "source": [
    ""
   ]
  },
  {
   "cell_type": "code",
   "execution_count": 19,
   "metadata": {},
   "outputs": [
    {
     "name": "stderr",
     "output_type": "stream",
     "text": [
      "--2018-01-23 11:13:43--  https://s3-us-west-2.amazonaws.com/mockrobiota/latest/mock-3/mock-index-read.fastq.gz\n",
      "Resolving s3-us-west-2.amazonaws.com... 52.218.144.52\n",
      "Connecting to s3-us-west-2.amazonaws.com|52.218.144.52|:443... connected.\n",
      "HTTP request sent, awaiting response... 200 OK\n",
      "Length: 365550 (357K) [application/x-gzip]\n",
      "Saving to: 'mock-index-read.fastq.gz'\n",
      "\n",
      "     0K .......... .......... .......... .......... .......... 14%  424K 1s\n",
      "    50K .......... .......... .......... .......... .......... 28%  896K 0s\n",
      "   100K .......... .......... .......... .......... .......... 42%  764K 0s\n",
      "   150K .......... .......... .......... .......... .......... 56% 3.44M 0s\n",
      "   200K .......... .......... .......... .......... .......... 70%  972K 0s\n",
      "   250K .......... .......... .......... .......... .......... 84% 3.40M 0s\n",
      "   300K .......... .......... .......... .......... .......... 98% 1.24M 0s\n",
      "   350K ......                                                100% 66.9M=0.4s\n",
      "\n",
      "2018-01-23 11:13:44 (996 KB/s) - 'mock-index-read.fastq.gz' saved [365550/365550]\n",
      "\n"
     ]
    }
   ],
   "source": [
    "%%bash\n",
    "# DOWNLOAD the seqs\n",
    "source activate qiime2-2017.11 # this should be name of your qiime conda env\n",
    "MOCK_DIR=\"/Users/massoudmaher/Documents/Code/mockrobiota/data/mock-3\"\n",
    "cd $MOCK_DIR\n",
    "FORWARD_URL=`awk '$1 ==\"raw-data-url-forward-read\" {print $2}' dataset-metadata.tsv`\n",
    "REVERSE_URL=`awk '$1 ==\"raw-data-url-reverse-read\" {print $2}' dataset-metadata.tsv`\n",
    "BARCODE_URL=`awk '$1 ==\"raw-data-url-index-read\" {print $2}' dataset-metadata.tsv`\n",
    "\n",
    "# NOTE this download will take a while. Might want to run them all before\n",
    "wget $FORWARD_URL\n",
    "if [ \"$REVERSE_URL\" != \"NA\" ]; then\n",
    "    wget $REVERSE_URL\n",
    "fi\n",
    "\n",
    "if [ \"$BARCODE_URL\" != \"NA\" ]; then\n",
    "    wget $BARCODE_URL\n",
    "fi"
   ]
  },
  {
   "cell_type": "code",
   "execution_count": 25,
   "metadata": {},
   "outputs": [],
   "source": [
    "%%bash\n",
    "# Prepare to run the pipeline \n",
    "source activate qiime2-2017.11 # this should be name of your qiime conda env\n",
    "MOCK_DIR=\"/Users/massoudmaher/Documents/Code/mockrobiota/data/mock-3\"\n",
    "cd $MOCK_DIR\n",
    "\n",
    "FORWARD_FP=\"$MOCK_DIR/source/mock-forward-read.fastq.gz\"\n",
    "REVERSE_FP=\"$MOCK_DIR/source/mock-reverse-read.fastq.gz\"\n",
    "BARCODE_FP=\"$MOCK_DIR/source/mock-index-read.fastq.gz\"\n",
    "\n",
    "#mkdir emp-paired-end-sequences\n",
    "mv $FORWARD_FP emp-paired-end-sequences/forward.fastq.gz\n",
    "mv $REVERSE_FP emp-paired-end-sequences/reverse.fastq.gz\n",
    "mv $BARCODE_FP emp-paired-end-sequences/barcodes.fastq.gz"
   ]
  },
  {
   "cell_type": "code",
   "execution_count": 8,
   "metadata": {},
   "outputs": [],
   "source": [
    "%%bash\n",
    "source activate qiime2-2017.11 # this should be name of your qiime conda env\n",
    "MOCK_DIR=\"/Users/massoudmaher/Documents/Code/mockrobiota/data/mock-3\"\n",
    "cd $MOCK_DIR\n",
    "\n",
    "# TODO make this conditional on if it is paired or not\n",
    "qiime tools import \\\n",
    "  --type EMPPairedEndSequences \\\n",
    "  --input-path emp-paired-end-sequences \\\n",
    "  --output-path emp-paired-end-sequences.qza\n",
    "\n",
    "# Also import as single end\n",
    "mkdir emp-single-end-sequences\n",
    "## TODO must copy seqs and barcodes as sequences.fastq.gz and barcodes.fastq.gz\n",
    "qiime tools import \\\n",
    "  --type EMPSingleEndSequences \\\n",
    "  --input-path emp-single-end-sequences \\\n",
    "  --output-path emp-single-end-sequences.qza"
   ]
  },
  {
   "cell_type": "code",
   "execution_count": 9,
   "metadata": {},
   "outputs": [
    {
     "name": "stdout",
     "output_type": "stream",
     "text": [
      "Saved SampleData[SequencesWithQuality] to: demux_single.qza\n"
     ]
    }
   ],
   "source": [
    "%%bash\n",
    "source activate qiime2-2017.11 # this should be name of your qiime conda env\n",
    "MOCK_DIR=\"/Users/massoudmaher/Documents/Code/mockrobiota/data/mock-3\"\n",
    "cd $MOCK_DIR\n",
    "\n",
    "## TODO make this conditional on if it is paired or not\n",
    "qiime demux emp-paired \\\n",
    "  --i-seqs emp-paired-end-sequences.qza \\\n",
    "  --m-barcodes-file sample-metadata.tsv \\\n",
    "  --m-barcodes-category BarcodeSequence \\\n",
    "  --o-per-sample-sequences demux.qza\n",
    "  \n",
    "qiime demux emp-single \\\n",
    "  --i-seqs emp-single-end-sequences.qza \\\n",
    "  --m-barcodes-file sample-metadata.tsv \\\n",
    "  --m-barcodes-category BarcodeSequence \\\n",
    "  --o-per-sample-sequences demux_single.qza"
   ]
  },
  {
   "cell_type": "code",
   "execution_count": 15,
   "metadata": {},
   "outputs": [
    {
     "name": "stderr",
     "output_type": "stream",
     "text": [
      "Plugin error from quality-filter:\n",
      "\n",
      "  Argument to parameter 'demux' is not a subtype of SampleData[SequencesWithQuality].\n",
      "\n",
      "Debug info has been saved to /var/folders/9m/dy7kzyp50fldn0ydz_9wj8180000gn/T/qiime2-q2cli-err-q5eqnna2.log\n"
     ]
    }
   ],
   "source": [
    "%%bash\n",
    "# Case 1: We trim BEFORE deblurring (with deblur)\n",
    "source activate qiime2-2017.11 # this should be name of your qiime conda env\n",
    "MOCK_DIR=\"/Users/massoudmaher/Documents/Code/mockrobiota/data/mock-3\"\n",
    "cd $MOCK_DIR\n",
    "\n",
    "qiime quality-filter q-score \\\n",
    " --i-demux demux.qza \\\n",
    " --o-filtered-sequences demux-filtered.qza \\\n",
    " --o-filter-stats demux-filter-stats.qza"
   ]
  },
  {
   "cell_type": "code",
   "execution_count": 17,
   "metadata": {},
   "outputs": [],
   "source": [
    "from qiime2.plugins.quality_filter.methods import q_score"
   ]
  },
  {
   "cell_type": "code",
   "execution_count": 20,
   "metadata": {},
   "outputs": [],
   "source": [
    "#qiime deblur denoise-16S \\\n",
    "#  --i-demultiplexed-seqs demux-filtered.qza \\\n",
    "#  --p-trim-length 120 \\\n",
    "#  --o-representative-sequences rep-seqs-deblur.qza \\\n",
    "#  --o-table table-deblur.qza \\\n",
    "#  --p-sample-stats \\\n",
    "#  --o-stats deblur-stats.qza\n",
    "\n",
    "from qiime2.plugins.deblur.methods import denoise_16S"
   ]
  },
  {
   "cell_type": "markdown",
   "metadata": {},
   "source": [
    "## Starting over and doing it with qiime artifact api\n",
    "Also doing it for mock-6 now since it is forward only"
   ]
  },
  {
   "cell_type": "code",
   "execution_count": null,
   "metadata": {},
   "outputs": [],
   "source": [
    "%%bash\n",
    "# DOWNLOAD the seqs\n",
    "#source activate qiime2-2017.11 # this should be name of your qiime conda env\n",
    "MOCK_DIR=\"/Users/massoudmaher/Documents/Code/mockrobiota/data/mock-6\"\n",
    "cd $MOCK_DIR\n",
    "FORWARD_URL=`awk '$1 ==\"raw-data-url-forward-read\" {print $2}' dataset-metadata.tsv`\n",
    "REVERSE_URL=`awk '$1 ==\"raw-data-url-reverse-read\" {print $2}' dataset-metadata.tsv`\n",
    "BARCODE_URL=`awk '$1 ==\"raw-data-url-index-read\" {print $2}' dataset-metadata.tsv`\n",
    "\n",
    "# NOTE this download will take a while. Might want to run them all before\n",
    "wget $FORWARD_URL\n",
    "if [ \"$REVERSE_URL\" != \"NA\" ]; then\n",
    "    wget $REVERSE_URL\n",
    "fi\n",
    "\n",
    "if [ \"$BARCODE_URL\" != \"NA\" ]; then\n",
    "    wget $BARCODE_URL\n",
    "fi"
   ]
  },
  {
   "cell_type": "code",
   "execution_count": 21,
   "metadata": {},
   "outputs": [],
   "source": [
    "%%bash\n",
    "# rename the seqs\n",
    "MOCK_DIR=\"/Users/massoudmaher/Documents/Code/mockrobiota/data/mock-6\"\n",
    "cd $MOCK_DIR\n",
    "# NOTE this assumes we are only doing forward reads and no paired\n",
    "# If we are doing paired we need to make the names different\n",
    "mv mock-forward-read.fastq.gz sequences.fastq.gz\n",
    "mv mock-index-read.fastq.gz barcodes.fastq.gz"
   ]
  },
  {
   "cell_type": "code",
   "execution_count": 28,
   "metadata": {},
   "outputs": [],
   "source": [
    "%%bash\n",
    "# Put the seqs in their own directory so Artifact.import_data works\n",
    "MOCK_DIR=\"/Users/massoudmaher/Documents/Code/mockrobiota/data/mock-6\"\n",
    "cd $MOCK_DIR\n",
    "mkdir emp-single-end-sequences\n",
    "mv sequences.fastq.gz emp-single-end-sequences/\n",
    "mv barcodes.fastq.gz emp-single-end-sequences/"
   ]
  },
  {
   "cell_type": "code",
   "execution_count": 46,
   "metadata": {},
   "outputs": [],
   "source": [
    "# import seqs as qiime artifact\n",
    "from qiime2 import Artifact\n",
    "MOCK_DIR=\"/Users/massoudmaher/Documents/Code/mockrobiota/data/mock-6\"\n",
    "# NOTE for paired end first param is different\n",
    "mock6_seqs = Artifact.import_data(\"EMPSingleEndSequences\", MOCK_DIR +\"/emp-single-end-sequences\")"
   ]
  },
  {
   "cell_type": "code",
   "execution_count": 47,
   "metadata": {},
   "outputs": [
    {
     "ename": "KeyboardInterrupt",
     "evalue": "",
     "output_type": "error",
     "traceback": [
      "\u001b[0;31m---------------------------------------------------------------------------\u001b[0m",
      "\u001b[0;31mKeyboardInterrupt\u001b[0m                         Traceback (most recent call last)",
      "\u001b[0;32m<ipython-input-47-2c07711bcb6e>\u001b[0m in \u001b[0;36m<module>\u001b[0;34m()\u001b[0m\n\u001b[1;32m      5\u001b[0m \u001b[0;34m\u001b[0m\u001b[0m\n\u001b[1;32m      6\u001b[0m \u001b[0mmock6_barcode_metadata\u001b[0m \u001b[0;34m=\u001b[0m \u001b[0mMetadata\u001b[0m\u001b[0;34m.\u001b[0m\u001b[0mload\u001b[0m\u001b[0;34m(\u001b[0m\u001b[0mMOCK_DIR\u001b[0m \u001b[0;34m+\u001b[0m \u001b[0;34m\"/sample-metadata.tsv\"\u001b[0m\u001b[0;34m)\u001b[0m\u001b[0;34m.\u001b[0m\u001b[0mget_category\u001b[0m\u001b[0;34m(\u001b[0m\u001b[0;34m\"BarcodeSequence\"\u001b[0m\u001b[0;34m)\u001b[0m\u001b[0;34m\u001b[0m\u001b[0m\n\u001b[0;32m----> 7\u001b[0;31m \u001b[0mmock6_demux\u001b[0m\u001b[0;34m,\u001b[0m \u001b[0;34m=\u001b[0m \u001b[0memp_single\u001b[0m\u001b[0;34m(\u001b[0m\u001b[0mmock6_seqs\u001b[0m\u001b[0;34m,\u001b[0m \u001b[0mmock6_barcode_metadata\u001b[0m\u001b[0;34m)\u001b[0m \u001b[0;31m# NOTE the , in assignment so output is artifact and not tuple\u001b[0m\u001b[0;34m\u001b[0m\u001b[0m\n\u001b[0m",
      "\u001b[0;32m<decorator-gen-346>\u001b[0m in \u001b[0;36memp_single\u001b[0;34m(seqs, barcodes, rev_comp_barcodes, rev_comp_mapping_barcodes)\u001b[0m\n",
      "\u001b[0;32m/anaconda3/envs/qiime2-2017.11/lib/python3.5/site-packages/qiime2/sdk/action.py\u001b[0m in \u001b[0;36mbound_callable\u001b[0;34m(*args, **kwargs)\u001b[0m\n\u001b[1;32m    218\u001b[0m                 \u001b[0;31m# Execute\u001b[0m\u001b[0;34m\u001b[0m\u001b[0;34m\u001b[0m\u001b[0m\n\u001b[1;32m    219\u001b[0m                 outputs = self._callable_executor_(scope, callable_args,\n\u001b[0;32m--> 220\u001b[0;31m                                                    output_types, provenance)\n\u001b[0m\u001b[1;32m    221\u001b[0m \u001b[0;34m\u001b[0m\u001b[0m\n\u001b[1;32m    222\u001b[0m                 \u001b[0;32mif\u001b[0m \u001b[0mlen\u001b[0m\u001b[0;34m(\u001b[0m\u001b[0moutputs\u001b[0m\u001b[0;34m)\u001b[0m \u001b[0;34m!=\u001b[0m \u001b[0mlen\u001b[0m\u001b[0;34m(\u001b[0m\u001b[0mself\u001b[0m\u001b[0;34m.\u001b[0m\u001b[0msignature\u001b[0m\u001b[0;34m.\u001b[0m\u001b[0moutputs\u001b[0m\u001b[0;34m)\u001b[0m\u001b[0;34m:\u001b[0m\u001b[0;34m\u001b[0m\u001b[0m\n",
      "\u001b[0;32m/anaconda3/envs/qiime2-2017.11/lib/python3.5/site-packages/qiime2/sdk/action.py\u001b[0m in \u001b[0;36m_callable_executor_\u001b[0;34m(self, scope, view_args, output_types, provenance)\u001b[0m\n\u001b[1;32m    353\u001b[0m \u001b[0;34m\u001b[0m\u001b[0m\n\u001b[1;32m    354\u001b[0m     \u001b[0;32mdef\u001b[0m \u001b[0m_callable_executor_\u001b[0m\u001b[0;34m(\u001b[0m\u001b[0mself\u001b[0m\u001b[0;34m,\u001b[0m \u001b[0mscope\u001b[0m\u001b[0;34m,\u001b[0m \u001b[0mview_args\u001b[0m\u001b[0;34m,\u001b[0m \u001b[0moutput_types\u001b[0m\u001b[0;34m,\u001b[0m \u001b[0mprovenance\u001b[0m\u001b[0;34m)\u001b[0m\u001b[0;34m:\u001b[0m\u001b[0;34m\u001b[0m\u001b[0m\n\u001b[0;32m--> 355\u001b[0;31m         \u001b[0moutput_views\u001b[0m \u001b[0;34m=\u001b[0m \u001b[0mself\u001b[0m\u001b[0;34m.\u001b[0m\u001b[0m_callable\u001b[0m\u001b[0;34m(\u001b[0m\u001b[0;34m**\u001b[0m\u001b[0mview_args\u001b[0m\u001b[0;34m)\u001b[0m\u001b[0;34m\u001b[0m\u001b[0m\n\u001b[0m\u001b[1;32m    356\u001b[0m         \u001b[0moutput_views\u001b[0m \u001b[0;34m=\u001b[0m \u001b[0mtuplize\u001b[0m\u001b[0;34m(\u001b[0m\u001b[0moutput_views\u001b[0m\u001b[0;34m)\u001b[0m\u001b[0;34m\u001b[0m\u001b[0m\n\u001b[1;32m    357\u001b[0m \u001b[0;34m\u001b[0m\u001b[0m\n",
      "\u001b[0;32m/anaconda3/envs/qiime2-2017.11/lib/python3.5/site-packages/q2_demux/_demux.py\u001b[0m in \u001b[0;36memp_single\u001b[0;34m(seqs, barcodes, rev_comp_barcodes, rev_comp_mapping_barcodes)\u001b[0m\n\u001b[1;32m    260\u001b[0m     \u001b[0mper_sample_fastqs\u001b[0m \u001b[0;34m=\u001b[0m \u001b[0;34m{\u001b[0m\u001b[0;34m}\u001b[0m\u001b[0;34m\u001b[0m\u001b[0m\n\u001b[1;32m    261\u001b[0m \u001b[0;34m\u001b[0m\u001b[0m\n\u001b[0;32m--> 262\u001b[0;31m     \u001b[0;32mfor\u001b[0m \u001b[0mbarcode_record\u001b[0m\u001b[0;34m,\u001b[0m \u001b[0msequence_record\u001b[0m \u001b[0;32min\u001b[0m \u001b[0mseqs\u001b[0m\u001b[0;34m:\u001b[0m\u001b[0;34m\u001b[0m\u001b[0m\n\u001b[0m\u001b[1;32m    263\u001b[0m         \u001b[0mbarcode_read\u001b[0m \u001b[0;34m=\u001b[0m \u001b[0mbarcode_record\u001b[0m\u001b[0;34m[\u001b[0m\u001b[0;36m1\u001b[0m\u001b[0;34m]\u001b[0m\u001b[0;34m\u001b[0m\u001b[0m\n\u001b[1;32m    264\u001b[0m         \u001b[0;32mif\u001b[0m \u001b[0mrev_comp_barcodes\u001b[0m\u001b[0;34m:\u001b[0m\u001b[0;34m\u001b[0m\u001b[0m\n",
      "\u001b[0;32m/anaconda3/envs/qiime2-2017.11/lib/python3.5/site-packages/q2_demux/_demux.py\u001b[0m in \u001b[0;36m__iter__\u001b[0;34m(self)\u001b[0m\n\u001b[1;32m    106\u001b[0m         \u001b[0;31m# Adapted from q2-types\u001b[0m\u001b[0;34m\u001b[0m\u001b[0;34m\u001b[0m\u001b[0m\n\u001b[1;32m    107\u001b[0m         for barcode_record, sequence_record in itertools.zip_longest(\n\u001b[0;32m--> 108\u001b[0;31m                 self.barcode_generator, self.sequence_generator):\n\u001b[0m\u001b[1;32m    109\u001b[0m             \u001b[0;32mif\u001b[0m \u001b[0mbarcode_record\u001b[0m \u001b[0;32mis\u001b[0m \u001b[0;32mNone\u001b[0m\u001b[0;34m:\u001b[0m\u001b[0;34m\u001b[0m\u001b[0m\n\u001b[1;32m    110\u001b[0m                 \u001b[0;32mraise\u001b[0m \u001b[0mValueError\u001b[0m\u001b[0;34m(\u001b[0m\u001b[0;34m'More sequences were provided than barcodes.'\u001b[0m\u001b[0;34m)\u001b[0m\u001b[0;34m\u001b[0m\u001b[0m\n",
      "\u001b[0;32m/anaconda3/envs/qiime2-2017.11/lib/python3.5/site-packages/q2_demux/_demux.py\u001b[0m in \u001b[0;36m_read_fastq_seqs\u001b[0;34m(filepath)\u001b[0m\n\u001b[1;32m     32\u001b[0m     \u001b[0;31m# http://stackoverflow.com/a/39302117/3424666\u001b[0m\u001b[0;34m\u001b[0m\u001b[0;34m\u001b[0m\u001b[0m\n\u001b[1;32m     33\u001b[0m     \u001b[0mfh\u001b[0m \u001b[0;34m=\u001b[0m \u001b[0mgzip\u001b[0m\u001b[0;34m.\u001b[0m\u001b[0mopen\u001b[0m\u001b[0;34m(\u001b[0m\u001b[0mfilepath\u001b[0m\u001b[0;34m,\u001b[0m \u001b[0;34m'rt'\u001b[0m\u001b[0;34m)\u001b[0m\u001b[0;34m\u001b[0m\u001b[0m\n\u001b[0;32m---> 34\u001b[0;31m     \u001b[0;32mfor\u001b[0m \u001b[0mseq_header\u001b[0m\u001b[0;34m,\u001b[0m \u001b[0mseq\u001b[0m\u001b[0;34m,\u001b[0m \u001b[0mqual_header\u001b[0m\u001b[0;34m,\u001b[0m \u001b[0mqual\u001b[0m \u001b[0;32min\u001b[0m \u001b[0mitertools\u001b[0m\u001b[0;34m.\u001b[0m\u001b[0mzip_longest\u001b[0m\u001b[0;34m(\u001b[0m\u001b[0;34m*\u001b[0m\u001b[0;34m[\u001b[0m\u001b[0mfh\u001b[0m\u001b[0;34m]\u001b[0m \u001b[0;34m*\u001b[0m \u001b[0;36m4\u001b[0m\u001b[0;34m)\u001b[0m\u001b[0;34m:\u001b[0m\u001b[0;34m\u001b[0m\u001b[0m\n\u001b[0m\u001b[1;32m     35\u001b[0m         yield (seq_header.strip(), seq.strip(), qual_header.strip(),\n\u001b[1;32m     36\u001b[0m                qual.strip())\n",
      "\u001b[0;32m/anaconda3/envs/qiime2-2017.11/lib/python3.5/gzip.py\u001b[0m in \u001b[0;36mclosed\u001b[0;34m(self)\u001b[0m\n\u001b[1;32m    294\u001b[0m         \u001b[0;32mreturn\u001b[0m \u001b[0mself\u001b[0m\u001b[0;34m.\u001b[0m\u001b[0m_buffer\u001b[0m\u001b[0;34m.\u001b[0m\u001b[0mpeek\u001b[0m\u001b[0;34m(\u001b[0m\u001b[0mn\u001b[0m\u001b[0;34m)\u001b[0m\u001b[0;34m\u001b[0m\u001b[0m\n\u001b[1;32m    295\u001b[0m \u001b[0;34m\u001b[0m\u001b[0m\n\u001b[0;32m--> 296\u001b[0;31m     \u001b[0;34m@\u001b[0m\u001b[0mproperty\u001b[0m\u001b[0;34m\u001b[0m\u001b[0m\n\u001b[0m\u001b[1;32m    297\u001b[0m     \u001b[0;32mdef\u001b[0m \u001b[0mclosed\u001b[0m\u001b[0;34m(\u001b[0m\u001b[0mself\u001b[0m\u001b[0;34m)\u001b[0m\u001b[0;34m:\u001b[0m\u001b[0;34m\u001b[0m\u001b[0m\n\u001b[1;32m    298\u001b[0m         \u001b[0;32mreturn\u001b[0m \u001b[0mself\u001b[0m\u001b[0;34m.\u001b[0m\u001b[0mfileobj\u001b[0m \u001b[0;32mis\u001b[0m \u001b[0;32mNone\u001b[0m\u001b[0;34m\u001b[0m\u001b[0m\n",
      "\u001b[0;31mKeyboardInterrupt\u001b[0m: "
     ]
    }
   ],
   "source": [
    "# demux seqs\n",
    "# NOTE that this is different for paired end reads\n",
    "from qiime2.plugins.demux.methods import emp_single\n",
    "from qiime2 import Metadata \n",
    "\n",
    "mock6_barcode_metadata = Metadata.load(MOCK_DIR + \"/sample-metadata.tsv\").get_category(\"BarcodeSequence\")\n",
    "mock6_demux, = emp_single(mock6_seqs, mock6_barcode_metadata) # NOTE the , in assignment so output is artifact and not tuple"
   ]
  },
  {
   "cell_type": "code",
   "execution_count": 67,
   "metadata": {},
   "outputs": [
    {
     "data": {
      "text/plain": [
       "<artifact: SampleData[SequencesWithQuality] uuid: 29bb6f74-d1f9-433d-b53e-9da250c52fd3>"
      ]
     },
     "execution_count": 67,
     "output_type": "execute_result",
     "metadata": {}
    }
   ],
   "source": [
    "mock6_demux"
   ]
  },
  {
   "cell_type": "code",
   "execution_count": 68,
   "metadata": {},
   "outputs": [],
   "source": [
    "## quality filter + deblur\n",
    "from qiime2.plugins.quality_filter.methods import q_score\n",
    "\n",
    "mock6_demux_filtered, mock6_demux_filter_stats = q_score(mock6_demux)"
   ]
  },
  {
   "cell_type": "code",
   "execution_count": 77,
   "metadata": {},
   "outputs": [],
   "source": [
    "from qiime2.plugins.deblur.methods import denoise_16S\n",
    "NUM_CORES = 4\n",
    "\n",
    "# TODO BIG TODO-- figure out what length to trim for each mock dataset\n",
    "mock6_deblur_100nt, mock6_rep_seqs, mock6_deblur_stats = \\\n",
    "    denoise_16S(mock6_demux_filtered, 100, \n",
    "                jobs_to_start = NUM_CORES, hashed_feature_ids = False)"
   ]
  },
  {
   "cell_type": "code",
   "execution_count": 81,
   "metadata": {},
   "outputs": [],
   "source": [
    "# Trim reads AFTER deblur (we do not always do this)\n",
    "import biom\n",
    "mock6_biom = mock6_deblur_100nt.view(biom.Table)\n",
    "mock6_biom_trim_75 = mock6_biom.collapse(lambda i, m: i[:75], axis='observation')\n",
    "\n",
    "# Import trimmed table back into qiime2 artifact\n",
    "mock6_deblur_trim_75 = Artifact.import_data(\"FeatureTable[Frequency]\", mock6_trim_75);"
   ]
  },
  {
   "cell_type": "code",
   "execution_count": null,
   "metadata": {},
   "outputs": [],
   "source": [
    "# Testing whether wget package or calling wget is faster because downloading is major  factor in making\n",
    "# runtime longer\n",
    "import subprocess\n",
    "import time\n",
    "\n",
    "def download_mock_data(working_dir_fp, sequences_url, barcodes_url, metadata_url):\n",
    "    \"\"\"\n",
    "    Downloads data-- helper method\n",
    "    \n",
    "    :param working_dir_fp: filepath where sequences_url + barcodes_url file are downloaded to \n",
    "                           and put into a directory \"emp-single-end-sequences\". Ideally, this should be a\n",
    "                           mock-<n> directory from when you clone the mockrobiota github repo\n",
    "                           should not end with \"/\"\n",
    "    :param sequences_url: URL from which sequences are downloaded from using wget\n",
    "    :param barcodes_url: URL from which barcodes are downloaded from using wget\n",
    "    :param metadata_url: URL from which we get metadata file\n",
    "    \"\"\"\n",
    "    try:\n",
    "        #print(\"Downloading \" + sequences_url)\n",
    "        #subprocess.call([\"wget\", sequences_url], cwd=working_dir_fp)\n",
    "        #print(\"Downloading \" + barcodes_url)\n",
    "        #subprocess.call([\"wget\", barcodes_url], cwd=working_dir_fp)\n",
    "        print(\"Downloading \" + metadata_url)\n",
    "        subprocess.call([\"wget\", metadata_url], cwd=working_dir_fp)\n",
    "    except OSError:\n",
    "        print(\"Failed to download\")\n",
    "        return None\n",
    "\n",
    "import wget\n",
    "def download_mock_data_wget(working_dir_fp, sequences_url, barcodes_url, metadata_url):\n",
    "    \"\"\"\n",
    "    Downloads data-- helper method\n",
    "    \n",
    "    :param working_dir_fp: filepath where sequences_url + barcodes_url file are downloaded to \n",
    "                           and put into a directory \"emp-single-end-sequences\". Ideally, this should be a\n",
    "                           mock-<n> directory from when you clone the mockrobiota github repo\n",
    "                           should not end with \"/\"\n",
    "    :param sequences_url: URL from which sequences are downloaded from using wget\n",
    "    :param barcodes_url: URL from which barcodes are downloaded from using wget\n",
    "    :param metadata_url: URL from which we get metadata file\n",
    "    \"\"\"\n",
    "    try:\n",
    "        #print(\"Downloading \" + sequences_url)\n",
    "        #subprocess.call([\"wget\", sequences_url], cwd=working_dir_fp)\n",
    "        #print(\"Downloading \" + barcodes_url)\n",
    "        #subprocess.call([\"wget\", barcodes_url], cwd=working_dir_fp)\n",
    "        print(\"Downloading \" + metadata_url)\n",
    "        wget.download(metadata_url, working_dir_fp)\n",
    "    except OSError:\n",
    "        print(\"Failed to download\")\n",
    "        return None\n",
    "    \n",
    "# Test import_mock_dataset\n",
    "working_dir_fp = \"/Users/massoudmaher/Documents/Code/download_mock_data-testing\"\n",
    "# TODO get these programatically\n",
    "seq_url=\"https://s3-us-west-2.amazonaws.com/mockrobiota/latest/mock-6/mock-forward-read.fastq.gz\"\n",
    "barcode_url=\"https://s3-us-west-2.amazonaws.com/mockrobiota/latest/mock-6/mock-index-read.fastq.gz\"\n",
    "metadata_url=\"https://raw.githubusercontent.com/caporaso-lab/mockrobiota/master/data/mock-6/sample-metadata.tsv\"\n",
    "\n",
    "start = time.time()\n",
    "download_mock_data(working_dir_fp, seq_url, barcode_url, metadata_url)\n",
    "end = time.time()\n",
    "print(\"Time using subprocess {:f}\".format(end-start))\n",
    "\n",
    "start = time.time()\n",
    "download_mock_data_wget(working_dir_fp, seq_url, barcode_url, metadata_url)\n",
    "end = time.time()\n",
    "print(\"Time using wget {:f}\".format(end-start))"
   ]
  },
  {
   "cell_type": "code",
   "execution_count": 14,
   "metadata": {},
   "outputs": [],
   "source": [
    "from qiime2 import Artifact\n",
    "from qiime2.plugins.demux.methods import emp_single\n",
    "from qiime2 import Metadata \n",
    "import os\n",
    "import wget\n",
    "\n",
    "# TODO get rid of magic strings\n",
    "def import_mock_dataset(working_dir_fp, sequences_url, barcodes_url, metadata_url, metadata_barcode_column):\n",
    "    \"\"\"\n",
    "    Downloads seqs, imports them as qiime artifact, demuxes them\n",
    "    NOTE: the mockrobiota file/naming structure is very consistent so we take advatage of that\n",
    "    if it changes, much of this will break\n",
    "\n",
    "    :param working_dir_fp: filepath where sequences_url + barcodes_url file are downloaded to \n",
    "                           and put into a directory \"emp-single-end-sequences\". Ideally, this should be a\n",
    "                           mock-<n> directory from when you clone the mockrobiota github repo\n",
    "                           should not end with \"/\"\n",
    "    :param sequences_url: URL from which sequences are downloaded from using wget\n",
    "    :param barcodes_url: URL from which barcodes are downloaded from using wget\n",
    "    :param metadata_url: URL from which we get metadata file\n",
    "    :param metadata_barcode_column: column header in metadatafile that holds barcode data\n",
    "    \n",
    "    :return tuple of demuxed seqs artifact of type <TODO>, loaded metadata <TODO>, None if fails\n",
    "    \"\"\"\n",
    "    print(\"Downloading \" + sequences_url)\n",
    "    wget.download(sequences_url, working_dir_fp)\n",
    "    print(\"Downloading \" + barcodes_url)\n",
    "    wget.download(barcodes_url, working_dir_fp)\n",
    "    print(\"Downloading \" + metadata_url)\n",
    "    wget.download(metadata_url, working_dir_fp)\n",
    "    \n",
    "    # setup files so qiime can work with them\n",
    "    try:\n",
    "        subprocess.call([\"mkdir\" ,\"emp-single-end-sequences\"], cwd=working_dir_fp)\n",
    "    except OSError:\n",
    "        # Probably just because dir already exists\n",
    "        print(\"mkdir emp-single-end-sequences failed, probably a non-issue\")\n",
    "        \n",
    "    seq_fn = os.path.basename(sequences_url)\n",
    "    barcode_fn = os.path.basename(barcodes_url)\n",
    "    try:\n",
    "        # TODO this is different if we are doing paired reads\n",
    "        subprocess.call([\"mv\", seq_fn, \"emp-single-end-sequences/sequences.fastq.gz\"], cwd=working_dir_fp)\n",
    "        subprocess.call([\"mv\", barcode_fn, \"emp-single-end-sequences/barcodes.fastq.gz\"], cwd=working_dir_fp)\n",
    "    except OSError:\n",
    "        print(\"Failed to rename downloaded files\")\n",
    "        return None\n",
    "    \n",
    "    # do the import\n",
    "    # TODO different if we are doing paired reads\n",
    "    print(\"Importing seq data\")\n",
    "    seqs = Artifact.import_data(\"EMPSingleEndSequences\", working_dir_fp + \"/emp-single-end-sequences\")\n",
    "    \n",
    "    # import metadata and demux the data\n",
    "    print(\"Loading metadata\")\n",
    "    barcode_metadata = Metadata.load(working_dir_fp + \"/sample-metadata.tsv\").get_category(\"BarcodeSequence\")\n",
    "    print(\"Demuxing\")\n",
    "    demux, = emp_single(seqs, barcode_metadata) # NOTE the , in assignment so output is artifact and not tuple\n",
    "    return demux, barcode_metadata"
   ]
  },
  {
   "cell_type": "code",
   "execution_count": 15,
   "metadata": {},
   "outputs": [
    {
     "name": "stdout",
     "output_type": "stream",
     "text": [
      "Importing seq data\n",
      "Loading metadata\n",
      "Demuxing\n"
     ]
    }
   ],
   "source": [
    "# Test import_mock_dataset\n",
    "working_dir_fp = \"/Users/massoudmaher/Documents/Code/deblur-testing\"\n",
    "metadata_barcode_column=\"BarcodeSequence\"\n",
    "# TODO get these programatically\n",
    "seq_url=\"https://s3-us-west-2.amazonaws.com/mockrobiota/latest/mock-6/mock-forward-read.fastq.gz\"\n",
    "barcode_url=\"https://s3-us-west-2.amazonaws.com/mockrobiota/latest/mock-6/mock-index-read.fastq.gz\"\n",
    "metadata_url=\"https://raw.githubusercontent.com/caporaso-lab/mockrobiota/master/data/mock-6/sample-metadata.tsv\"\n",
    "\n",
    "mock6_demux, mock6_barcode_metadata = \\\n",
    "    import_mock_dataset(working_dir_fp, seq_url, barcode_url, metadata_url, metadata_barcode_column)"
   ]
  },
  {
   "cell_type": "code",
   "execution_count": 16,
   "metadata": {},
   "outputs": [
    {
     "name": "stdout",
     "output_type": "stream",
     "text": [
      "<class 'qiime2.sdk.result.Artifact'>\n",
      "<class 'qiime2.metadata.MetadataCategory'>\n"
     ]
    }
   ],
   "source": [
    "print(type(mock6_demux))\n",
    "print(type(mock6_barcode_metadata))"
   ]
  },
  {
   "cell_type": "code",
   "execution_count": 52,
   "metadata": {},
   "outputs": [],
   "source": [
    "from qiime2.plugins.quality_filter.methods import q_score\n",
    "from qiime2.plugins.deblur.methods import denoise_16S\n",
    "import biom\n",
    "\n",
    "# TODO type enforcements\n",
    "def establish_dataset(demuxed_seqs, pre_trim_length, post_trim_length = None):\n",
    "    \"\"\"\n",
    "    Given demuxed sequences, deblurs them and returns the result\n",
    "\n",
    "    :param demuxed_data: qiime artifact of demuxed data\n",
    "    :param pre_trim_length: length that we want to trim sequences to before deblur is ran\n",
    "    :param post_trim_length: length we want to trimg sequences to after delbur is ran\n",
    "    \n",
    "    :return FeatureTable[Frequency] of deblured data. Post-trimmed to length\n",
    "    post_trim_length if post_trim_length is not None\n",
    "    \"\"\"\n",
    "    print(\"Quality filtering (with default params)\")\n",
    "    demuxed_qfiltered, demuxed_qf_stats = q_score(demuxed_seqs)\n",
    "    \n",
    "    print(\"Deblur-ing with trim length {:d}\".format(pre_trim_length))\n",
    "    # TODO use jobs_to_start = NUM_CORES to speed up?\n",
    "    deblurred, repseq, deblur_stats = \\\n",
    "        denoise_16S(demuxed_qfiltered, pre_trim_length, hashed_feature_ids = False)\n",
    "    \n",
    "    # if post_trim is not None, perform the collapse\n",
    "    if(post_trim_length != None):\n",
    "        print(\"Trimming post-demuxed seqs to {:d}\".format(post_trim_length))\n",
    "        demuxed_biom = deblurred.view(biom.Table)\n",
    "        post_trimmed_biom = \\\n",
    "            demuxed_biom.collapse(lambda i, m:i[:post_trim_length], axis=\"observation\")\n",
    "        \n",
    "        post_trimmed = Artifact.import_data(\"FeatureTable[Frequency]\", post_trimmed_biom);\n",
    "        return post_trimmed\n",
    "    \n",
    "    return deblurred"
   ]
  },
  {
   "cell_type": "code",
   "execution_count": 24,
   "metadata": {},
   "outputs": [
    {
     "name": "stdout",
     "output_type": "stream",
     "text": [
      "Quality filtering (with default params)\n",
      "Deblur-ing with trim length 100\n"
     ]
    }
   ],
   "source": [
    "mock6_deblurred_100 = establish_dataset(mock6_demux, 100)"
   ]
  },
  {
   "cell_type": "code",
   "execution_count": 53,
   "metadata": {},
   "outputs": [
    {
     "name": "stdout",
     "output_type": "stream",
     "text": [
      "Quality filtering (with default params)\n",
      "Deblur-ing with trim length 100\n",
      "Trimming post-demuxed seqs to 75\n"
     ]
    }
   ],
   "source": [
    "mock6_deblurred_75 = establish_dataset(mock6_demux, 100, post_trim_length = 75)"
   ]
  },
  {
   "cell_type": "code",
   "execution_count": 69,
   "metadata": {},
   "outputs": [
    {
     "name": "stdout",
     "output_type": "stream",
     "text": [
      "('https://s3-us-west-2.amazonaws.com/mockrobiota/latest/mock-6/mock-forward-read.fastq.gz', 'https://s3-us-west-2.amazonaws.com/mockrobiota/latest/mock-6/mock-index-read.fastq.gz')\n"
     ]
    }
   ],
   "source": [
    "import pandas as pd\n",
    "\n",
    "dataset_metadata_url = \"https://raw.githubusercontent.com/caporaso-lab/mockrobiota/master/data/mock-6/dataset-metadata.tsv\"\n",
    "metadata_fp = \"/Users/massoudmaher/Documents/Code/deblur-testing/dataset-metadata.tsv\"\n",
    "working_dir_fp = \"/Users/massoudmaher/Documents/Code/deblur-testing\"\n",
    "def get_dl_urls(dataset_metadata_url, metadata_fp, working_dir_fp):\n",
    "    \"\"\"\n",
    "    :param dataset_metadata_url is url where we can download dataset metadata like this\n",
    "    https://github.com/caporaso-lab/mockrobiota/blob/master/data/mock-6/dataset-metadata.tsv\n",
    "    :param metadata_fp is filepath to sample-metadata.tsv file found in mock-<n> dir\n",
    "    :param working_dir_fp: filepath where sequences_url + barcodes_url file are downloaded to \n",
    "                           and put into a directory \"emp-single-end-sequences\". Ideally, this should be a\n",
    "                           mock-<n> directory from when you clone the mockrobiota github repo\n",
    "                           should not end with \"/\"\n",
    "    :return tuple of 2 strings, URLs of sequence and index files respectively\n",
    "    \"\"\"\n",
    "    wget.download(dataset_metadata_url, working_dir_fp)\n",
    "    metadata = pd.read_table(metadata_fp, index_col = 0)\n",
    "    \n",
    "    seq_url = metadata.loc[\"raw-data-url-forward-read\", \"value\"] \n",
    "    barcode_url = metadata.loc[\"raw-data-url-index-read\", \"value\"] \n",
    "    \n",
    "    return seq_url, barcode_url\n",
    "\n",
    "print(get_dl_urls(dataset_metadata_url, metadata_fp, working_dir_fp))"
   ]
  },
  {
   "cell_type": "code",
   "execution_count": 3,
   "metadata": {},
   "outputs": [],
   "source": [
    "from qiime2.plugins.deblur.methods import denoise_16S\n",
    "denoise_16S?"
   ]
  },
  {
   "cell_type": "code",
   "execution_count": null,
   "metadata": {},
   "outputs": [],
   "source": [
    ""
   ]
  }
 ],
 "metadata": {
  "kernelspec": {
   "display_name": "Python [conda env:qiime2-2017.11]",
   "language": "python",
   "name": "conda-env-qiime2-2017.11-py"
  },
  "language_info": {
   "codemirror_mode": {
    "name": "ipython",
    "version": 3.0
   },
   "file_extension": ".py",
   "mimetype": "text/x-python",
   "name": "python",
   "nbconvert_exporter": "python",
   "pygments_lexer": "ipython3",
   "version": "3.5.4"
  }
 },
 "nbformat": 4,
 "nbformat_minor": 2
}
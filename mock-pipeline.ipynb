{
 "cells": [
  {
   "cell_type": "markdown",
   "metadata": {},
   "source": [
    "### Pipeline for analyzing a single mock dataset"
   ]
  },
  {
   "cell_type": "code",
   "execution_count": 9,
   "metadata": {
    "collapsed": true
   },
   "outputs": [],
   "source": [
    "from qiime2 import Artifact\n",
    "from qiime2 import Metadata\n",
    "from qiime2.plugins.demux.methods import emp_single\n",
    "from qiime2.plugins.quality_filter.methods import q_score\n",
    "from qiime2.plugins.deblur.methods import denoise_16S\n",
    "from skbio.diversity import beta_diversity\n",
    "import pandas as pd\n",
    "import wget\n",
    "import biom\n",
    "import os\n",
    "import scipy\n",
    "\n",
    "\"\"\"\n",
    "This module holds methods used to test deblur post-trim vs pre-trim results\n",
    "\"\"\"\n",
    "def download_mock_dataset(working_dir_fp, sequences_url, barcodes_url,\n",
    "                          metadata_url):\n",
    "    \"\"\"\n",
    "    Downloads all the files we need from a mock dataset setup so qiime2 can\n",
    "    work with them. Puts all files inside\n",
    "    working_dir_fp + \"/emp-single-end-sequences\"\n",
    "\n",
    "    :param working_dir_fp: filepath where sequences_url + barcodes_url file are downloaded to\n",
    "                           and put into a directory \"emp-single-end-sequences\". Ideally, this should be a\n",
    "                           mock-<n> directory from when you clone the mockrobiota github repo\n",
    "                           should not end with \"/\"\n",
    "    :param sequences_url: URL from which sequences are downloaded from using wget\n",
    "    :param barcodes_url: URL from which barcodes are downloaded from using wget\n",
    "    :param metadata_url: URL from which we get sample-metadata.tsv file\n",
    "    \"\"\"\n",
    "    # setup files so qiime can work with them\n",
    "    output_dir = working_dir_fp + \"/emp-single-end-sequences\"\n",
    "    try:\n",
    "        os.mkdir(output_dir)\n",
    "    except FileExistsError:\n",
    "       pass\n",
    "\n",
    "    print(\"Downloading \" + sequences_url)\n",
    "    wget.download(sequences_url, output_dir + \"/sequences.fastq.gz\")\n",
    "    print(\"Downloading \" + barcodes_url)\n",
    "    wget.download(barcodes_url, output_dir + \"/barcodes.fastq.gz\")\n",
    "    print(\"Downloading \" + metadata_url)\n",
    "    wget.download(metadata_url, working_dir_fp)\n",
    "\n",
    "\n",
    "def import_mock_dataset(working_dir_fp, metadata_barcode_column, rev_comp_barcodes_in=False,\n",
    "                        rev_comp_mapping_barcodes_in=False):\n",
    "    \"\"\"\n",
    "    Imports seqs as qiime artifact, demuxes them.\n",
    "    Requires that fastq.gz files already be in\n",
    "    working_dir_fp/emp-single-end-seqs and sample-metadata.tsv be in\n",
    "    working_dir_fp\n",
    "\n",
    "    :param working_dir_fp: filepath where sequences_url + barcodes_url file are downloaded to\n",
    "                           and put into a directory \"emp-single-end-sequences\".\n",
    "                           Should also contain sample-metadata.tsv.\n",
    "                           Ideally, this should be a\n",
    "                           mock-<n> directory from when you clone the mockrobiota github repo\n",
    "                           should not end with \"/\"\n",
    "    :param metadata_barcode_column: column header in sample-metadata.tsv that holds barcode data\n",
    "    :param rev_comp_barcodes_i: param to emp_single for reversing barcode seqs\n",
    "    :param rev_comp_mapping_barcodes_i: param to emp_single for reversing barcode seqs in metadata\n",
    "\n",
    "    :return tuple of demuxed seqs, loaded metadata, None if fails\n",
    "    \"\"\"\n",
    "\n",
    "    # TODO different if we are doing paired reads\n",
    "    print(\"Importing seq data\")\n",
    "    seqs = Artifact.import_data(\"EMPSingleEndSequences\", working_dir_fp +\n",
    "                                \"/emp-single-end-sequences\")\n",
    "\n",
    "    print(\"Loading metadata\")\n",
    "    barcode_metadata = Metadata.load(working_dir_fp + \"/sample-metadata.tsv\")\n",
    "\n",
    "    print(\"Demuxing\")\n",
    "    demux, = emp_single(seqs,\n",
    "                        barcode_metadata.get_category(metadata_barcode_column),\n",
    "                        rev_comp_barcodes = rev_comp_barcodes_in,\n",
    "                        rev_comp_mapping_barcodes = rev_comp_mapping_barcodes_in)\n",
    "    return demux, barcode_metadata\n",
    "\n",
    "\n",
    "def establish_dataset(demuxed_seqs, pre_trim_length, num_cores = 1):\n",
    "    \"\"\"\n",
    "    Given demuxed sequences, quality filter, deblurs them and returns the result\n",
    "\n",
    "    :param demuxed_data: qiime artifact of demuxed data\n",
    "    :param pre_trim_length: length that we want to trim sequences to before\n",
    "        deblur is ran\n",
    "\n",
    "    :return FeatureTable[Frequency] of deblured data. Post-trimmed to length\n",
    "    post_trim_length if post_trim_length is not None\n",
    "    \"\"\"\n",
    "    print(\"Quality filtering (with default params)\")\n",
    "    demuxed_qfiltered, demuxed_qf_stats = q_score(demuxed_seqs)\n",
    "\n",
    "    print(\"Deblur-ing with trim length {:d}\".format(pre_trim_length))\n",
    "    deblurred, repseq, deblur_stats = \\\n",
    "        denoise_16S(demuxed_qfiltered, pre_trim_length,\n",
    "                    hashed_feature_ids = False, jobs_to_start = num_cores)\n",
    "\n",
    "    return deblurred\n",
    "\n",
    "def get_dl_urls(dataset_metadata_url, working_dir_fp):\n",
    "    \"\"\"\n",
    "    :param dataset_metadata_url is url where we can download dataset metadata like this\n",
    "    https://github.com/caporaso-lab/mockrobiota/blob/master/data/mock-6/dataset-metadata.tsv\n",
    "    :param working_dir_fp: filepath where sequences_url + barcodes_url file are downloaded to\n",
    "                           and put into a directory \"emp-single-end-sequences\".\n",
    "                           Should not end with \"/\"\n",
    "    :return tuple of 2 strings, URLs of sequence and index files respectively\n",
    "    \"\"\"\n",
    "    wget.download(dataset_metadata_url, working_dir_fp)\n",
    "    metadata_fp = working_dir_fp  + \"/\" + os.path.basename(dataset_metadata_url)\n",
    "    metadata = pd.read_table(metadata_fp, index_col = 0, dtype=str)\n",
    "\n",
    "    seq_url = metadata.loc[\"raw-data-url-forward-read\", \"value\"]\n",
    "    barcode_url = metadata.loc[\"raw-data-url-index-read\", \"value\"]\n",
    "\n",
    "    return seq_url, barcode_url\n",
    "\n",
    "\n",
    "def post_trim(deblurred_biom, post_trim_length):\n",
    "    \"\"\"\n",
    "    Trims a deblurred set of seqs-- utility fn so we dont have to re-run establish_dataset()\n",
    "    :param deblurred_biom deblurred seqs as biom table\n",
    "    :param post_trim_length length to trim to\n",
    "    :return trimmed deblurred seqs as BIOM\n",
    "    \"\"\"\n",
    "    print(\"Trimming post-demuxed seqs to {:d}\".format(post_trim_length))\n",
    "    post_trimmed_biom = \\\n",
    "        deblurred_biom.collapse(lambda i, m: i[:post_trim_length],\n",
    "                                axis=\"observation\", norm=False)\n",
    "\n",
    "    #post_trimmed = Artifact.import_data(\"FeatureTable[Frequency]\",\n",
    "    #                                    post_trimmed_biom);\n",
    "    return post_trimmed_biom\n",
    "\n",
    "def get_distance_distribution(pre_table_overlap, post_table_overlap):\n",
    "    \"\"\"\n",
    "    Given biom tables of overlapping reads, returns jaccard and bray curtis \n",
    "    distances between matching reads. \n",
    "    Two params should have exact same reads\n",
    "    :param pre_table_overlap biom table for pre trimmed reads\n",
    "    :param post_table_overlap biom table for post trimmed reads\n",
    "    :return pandas dataframe with columns [\"seq\",\"dist_type\",\"dist\"]\n",
    "    that hold sequence, type of distance and distance value\n",
    "    \"\"\"\n",
    "    distance_functions = [('jaccard', scipy.spatial.distance.jaccard), ('braycurtis', scipy.spatial.distance.braycurtis)]\n",
    "\n",
    "    results = []\n",
    "    pre_pa = pre_table_overlap.pa(inplace=False)\n",
    "    post_pa = post_table_overlap.pa(inplace=False)\n",
    "    for obs in pre_table_overlap.ids(axis='observation'):\n",
    "        for fname, f in distance_functions:\n",
    "            if(fname == \"jaccard\"):\n",
    "                a = pre_pa.data(obs, axis='observation', dense=True)\n",
    "                b = post_pa.data(obs, axis='observation', dense=True)\n",
    "            else:    \n",
    "                a = pre_table_overlap.data(obs, axis='observation', dense=True)\n",
    "                b = post_table_overlap.data(obs, axis='observation', dense=True)\n",
    "            results.append((obs, fname, f(a, b))) # TODO maybe append sample too?\n",
    "\n",
    "    results = pd.DataFrame(results, columns = [\"seq\", \"dist_type\", \"dist\"])\n",
    "    return results\n",
    "\n",
    "def get_pairwise_dist_mat(deblur_biom, dist_type):\n",
    "    if(dist_type == \"jaccard\"):\n",
    "        deblur_biom = deblur_biom.pa(inplace=False)\n",
    "    \n",
    "    dist_mat = beta_diversity(dist_type, \n",
    "                              deblur_biom.transpose().to_dataframe().as_matrix().astype(\"int64\"),\n",
    "                              ids = deblur_biom.ids(axis=\"sample\"))\n",
    "    return dist_mat\n",
    "\n",
    "\n",
    "def get_overlap_tables(pre, post):\n",
    "    \"\"\"\n",
    "    Takes in biom tables and returns the part of them that overlap in\n",
    "    same order\n",
    "    \n",
    "    :param pre biom table of pre-trimmed deblurred seqs\n",
    "    :param post biom table of post-trimmed deblurred seqs\n",
    "    :return tuple of biom tables (pre_o,post_o) where each table only holds\n",
    "            reads found in pre and post arguments\n",
    "    \"\"\"\n",
    "    pre_ids = pre.ids(axis='observation')\n",
    "    post_ids = post.ids(axis='observation')\n",
    "\n",
    "    features_in_common = set(pre_ids) & set(post_ids)\n",
    "    print(str(len(features_in_common)) + \" reads in common when intersecting\")\n",
    "    pre_table_overlap = pre.filter(features_in_common, axis='observation', inplace=False)\n",
    "    post_table_overlap = post.filter(features_in_common, axis='observation', inplace=False)\n",
    "\n",
    "    # put the tables into the same order on both axes\n",
    "    try:\n",
    "        pre_table_overlap = pre_table_overlap.sort_order(post_table_overlap.ids(axis='observation'), axis='observation')\n",
    "    except Error:\n",
    "        print(\"Failed to sort tables, possibly because number of samples changed between pre and post\")\n",
    "        return\n",
    "\n",
    "    return (pre_table_overlap, post_table_overlap)\n",
    "\n",
    "def get_shortest_seq(demuxed):\n",
    "    \"\"\"\n",
    "    Given a qiime artifact of demuxed reads, returns the length of the read\n",
    "    :param qiime2 artifact of demuxed reads\n",
    "    :return length of shortest read\n",
    "    \"\"\"\n",
    "    directory = demuxed.view(SingleLanePerSampleSingleEndFastqDirFmt)\n",
    "\n",
    "    lengths = {}\n",
    "    for file_name, format_fp in directory.sequences.iter_views(FastqGzFormat):\n",
    "        seqs = skbio.io.read(str(format_fp), format='fastq', phred_offset=33)\n",
    "        lengths[str(format_fp)] = min(len(s) for s in seqs)\n",
    "\n",
    "    return min(lengths.items())[1]"
   ]
  },
  {
   "cell_type": "code",
   "execution_count": 3,
   "metadata": {
    "collapsed": true
   },
   "outputs": [],
   "source": [
    "# PARAMS\n",
    "# WD that holds \"sample-metadata.tsv\", and \n",
    "# a folder \"emp-single-end-sequences\" with files\n",
    "# barcodes.fastq.gz and sequences.fastq.gz\n",
    "WD = \"test/analysis_testing_wd/mock-7\"\n",
    "\n",
    "# Should be in descending order!!!!\n",
    "# We will use first element for post-trims\n",
    "TRIM_LENGTHS = [100,90,80,70,60]\n",
    "NUM_CORES = 4\n",
    "\n",
    "LOAD_PRE_TRIMS = True\n",
    "LOAD_DEMUX = True\n",
    "\n",
    "# Whether to reverse barcodes, mapping barcodes, check README of mock page\n",
    "REV_BC = False\n",
    "REV_MAP_BC = True\n",
    "\n",
    "# Dataset specific values for convinience\n",
    "M7_TRIM_LENGHTS = [100,90,80,70,60]\n",
    "M3_TRIM_LENGHTS = [150,120,100,90,80,70]"
   ]
  },
  {
   "cell_type": "code",
   "execution_count": 4,
   "metadata": {},
   "outputs": [],
   "source": [
    "if(LOAD_DEMUX):\n",
    "    barcode_metadata = Metadata.load(WD + \"/sample-metadata.tsv\")\n",
    "    demuxed = Artifact.load(WD + \"/demux.qza\")\n",
    "else:\n",
    "    demuxed, barcode_metadata = import_mock_dataset(WD, \"BarcodeSequence\", \n",
    "                                                    rev_comp_barcodes_in=REV_BC,\n",
    "                                                    rev_comp_mapping_barcodes_in=REV_MAP_BC)\n",
    "    demuxed.save(WD + \"/demux\")"
   ]
  },
  {
   "cell_type": "code",
   "execution_count": 476,
   "metadata": {},
   "outputs": [
    {
     "data": {
      "text/plain": [
       "[<artifact: FeatureTable[Frequency] uuid: f10add6e-5a59-48b2-b561-1615531c29f9>,\n",
       " <artifact: FeatureTable[Frequency] uuid: 97568063-d80a-41fa-b3c4-5e1f23f055ad>,\n",
       " <artifact: FeatureTable[Frequency] uuid: 675ffd87-e057-4a7d-bd3a-33a4ab46c9b6>,\n",
       " <artifact: FeatureTable[Frequency] uuid: 8ccc6565-da6f-49c7-adb1-c96e7686615a>,\n",
       " <artifact: FeatureTable[Frequency] uuid: 64b59b6e-27f0-4f41-82eb-2c11e2cdfa19>]"
      ]
     },
     "execution_count": 476,
     "metadata": {},
     "output_type": "execute_result"
    }
   ],
   "source": [
    "pre_trims = []\n",
    "if(LOAD_PRE_TRIMS):\n",
    "    for length in TRIM_LENGTHS:\n",
    "        deblurred = Artifact.load(WD + \"/deblurred_pre_\" + str(length) + \"nt.qza\")\n",
    "        pre_trims.append(deblurred)\n",
    "else:\n",
    "    for length in TRIM_LENGTHS:\n",
    "        deblurred = establish_dataset(demuxed, pre_trim_length=length, num_cores=NUM_CORES)\n",
    "        pre_trims.append(deblurred)\n",
    "        deblurred.save(WD + \"/deblurred_pre_\" + str(length) + \"nt\")\n",
    "\n",
    "pre_trims"
   ]
  },
  {
   "cell_type": "code",
   "execution_count": 477,
   "metadata": {},
   "outputs": [
    {
     "name": "stdout",
     "output_type": "stream",
     "text": [
      "Trimming post-demuxed seqs to 100\n",
      "Trimming post-demuxed seqs to 90\n",
      "Trimming post-demuxed seqs to 80\n",
      "Trimming post-demuxed seqs to 70\n",
      "Trimming post-demuxed seqs to 60\n"
     ]
    },
    {
     "data": {
      "text/plain": [
       "[<artifact: FeatureTable[Frequency] uuid: ca6006d9-0de9-4b7c-9156-cdb201290fba>,\n",
       " <artifact: FeatureTable[Frequency] uuid: 784ed564-c6d9-48d6-8144-70a7f078f100>,\n",
       " <artifact: FeatureTable[Frequency] uuid: 566ccf84-1f40-472a-9440-9b2d22b7d5dc>,\n",
       " <artifact: FeatureTable[Frequency] uuid: 73177990-75f2-4a85-998b-d33c027078e7>,\n",
       " <artifact: FeatureTable[Frequency] uuid: a90895e3-eb8c-4919-954c-b4454db922f7>]"
      ]
     },
     "execution_count": 477,
     "metadata": {},
     "output_type": "execute_result"
    }
   ],
   "source": [
    "post_trims = []\n",
    "for i in range(len(TRIM_LENGTHS)):\n",
    "    trimmed_biom = post_trim(pre_trims[0].view(biom.Table), TRIM_LENGTHS[i])\n",
    "    trimmed = Artifact.import_data(\"FeatureTable[Frequency]\", trimmed_biom);\n",
    "    post_trims.append(trimmed)\n",
    "    trimmed.save(WD + \"/deblurred_pt_\" + str(length) + \"nt\")\n",
    "\n",
    "post_trims"
   ]
  },
  {
   "cell_type": "code",
   "execution_count": 489,
   "metadata": {},
   "outputs": [
    {
     "name": "stdout",
     "output_type": "stream",
     "text": [
      "67 reads in common when intersecting\n",
      "66 reads in common when intersecting\n",
      "64 reads in common when intersecting\n",
      "60 reads in common when intersecting\n",
      "57 reads in common when intersecting\n"
     ]
    }
   ],
   "source": [
    "pre_pt_table = pd.DataFrame()\n",
    "pre_pt_table[\"pre\"] = pre_trims\n",
    "pre_pt_table[\"post\"] = post_trims\n",
    "pre_pt_table[\"length\"] = TRIM_LENGTHS\n",
    "\n",
    "dists_overlaps = pd.DataFrame()\n",
    "overlap_bioms = dict()\n",
    "pre_overlaps = []\n",
    "post_overlaps = []\n",
    "for i in range(pre_pt_table.shape[0]):\n",
    "    pre_overlap_biom, post_overlap_biom = \\\n",
    "        get_overlap_tables(pre_pt_table.iloc[i,0].view(biom.Table), \n",
    "                           pre_pt_table.iloc[i,1].view(biom.Table))\n",
    "    pre_overlaps.append(pre_overlap_biom)    \n",
    "    post_overlaps.append(post_overlap_biom)    \n",
    "        \n",
    "    dists = get_distance_distribution(pre_overlap_biom, post_overlap_biom)\n",
    "    dists[\"length\"] = pre_pt_table.iloc[i,2]\n",
    "    dists_overlaps = dists_overlaps.append(dists)\n",
    "    overlap_bioms[pre_pt_table.iloc[i,2]] = pre_overlap_biom # TODO look at this\n",
    "    \n",
    "pre_pt_table[\"pre_overlap\"] = pre_overlaps\n",
    "pre_pt_table[\"post_overlap\"] = post_overlaps"
   ]
  },
  {
   "cell_type": "code",
   "execution_count": 482,
   "metadata": {},
   "outputs": [
    {
     "data": {
      "text/plain": [
       "Text(0.5,1,'Jaccard')"
      ]
     },
     "execution_count": 482,
     "metadata": {},
     "output_type": "execute_result"
    },
    {
     "data": {
      "image/png": "[encoded data removed]"
     },
     "metadata": {},
     "output_type": "display_data"
    }
   ],
   "source": [
    "%matplotlib inline\n",
    "from matplotlib import pyplot as plt\n",
    "f, (ax1, ax2) = plt.subplots(2, 1 ,figsize=(10,10))\n",
    "plt.tight_layout()\n",
    "plt.suptitle(\"Distance for all lengths\", size=16)\n",
    "plt.subplots_adjust(top=0.9, hspace = 0.3)\n",
    "ax1.hist(dists_overlaps[dists_overlaps[\"dist_type\"] == \"braycurtis\"][\"dist\"], bins = 'auto')\n",
    "ax1.set_title(\"Bray-Curtis\")\n",
    "ax2.hist(dists_overlaps[dists_overlaps[\"dist_type\"] == \"jaccard\"][\"dist\"], bins = 'auto')\n",
    "ax2.set_title(\"Jaccard\")"
   ]
  },
  {
   "cell_type": "code",
   "execution_count": 483,
   "metadata": {},
   "outputs": [
    {
     "data": {
      "text/plain": [
       "[Text(0.5,0,'trim_length'),\n",
       " Text(0.5,1,'Distribution of distances between matching pre/post otus')]"
      ]
     },
     "execution_count": 483,
     "metadata": {},
     "output_type": "execute_result"
    },
    {
     "data": {
      "image/png": "[encoded data removed]"
     },
     "metadata": {},
     "output_type": "display_data"
    }
   ],
   "source": [
    "import seaborn as sns\n",
    "ax = sns.boxplot(x=\"length\", y=\"dist\", data=dists_overlaps, hue=\"dist_type\")\n",
    "ax.set(xlabel=\"trim_length\", title=\"Distribution of distances between matching pre/post otus\")"
   ]
  },
  {
   "cell_type": "code",
   "execution_count": 484,
   "metadata": {},
   "outputs": [
    {
     "data": {
      "text/plain": [
       "Text(0.5,0.98,'Distances for trim lengths')"
      ]
     },
     "execution_count": 484,
     "metadata": {},
     "output_type": "execute_result"
    },
    {
     "data": {
      "image/png": "[encoded data removed]"
     },
     "metadata": {},
     "output_type": "display_data"
    }
   ],
   "source": [
    "%matplotlib inline\n",
    "fig, axes = plt.subplots(len(TRIM_LENGTHS), 2, sharey = True, sharex = True, figsize = (10,10))\n",
    "\n",
    "for i in range(len(TRIM_LENGTHS)):\n",
    "    axes[i,0].hist(dists_overlaps[(dists_overlaps[\"dist_type\"] == \"braycurtis\") & \\\n",
    "                                  (dists_overlaps[\"length\"] == TRIM_LENGTHS[i])][\"dist\"], bins = 'auto')\n",
    "    axes[i,1].hist(dists_overlaps[(dists_overlaps[\"dist_type\"] == \"jaccard\") & \\\n",
    "                                  (dists_overlaps[\"length\"] == TRIM_LENGTHS[i])][\"dist\"], bins = 'auto')\n",
    "\n",
    "axes[0,0].set_title(\"Bray-Curtis\")\n",
    "axes[0,1].set_title(\"Jaccard\")\n",
    "axes[0,0].set_xlim([0,1])\n",
    "\n",
    "for ax, row in zip(axes[:,0], TRIM_LENGTHS):\n",
    "    ax.set_ylabel(str(row), rotation=0, size='large')\n",
    "\n",
    "plt.suptitle(\"Distances for trim lengths\", size=16)"
   ]
  },
  {
   "cell_type": "code",
   "execution_count": null,
   "metadata": {
    "collapsed": true
   },
   "outputs": [],
   "source": [
    "from skbio.stats.distance import mantel\n",
    "\n",
    "# Now doing mantel tests between raw pre/post biom tables\n",
    "for i in range(pre_pt_table.shape[0])\n",
    "    r, p nsamp = mantel(pre_pt_table.iloc[i,3], pre_pt_table.iloc[i,4])"
   ]
  },
  {
   "cell_type": "code",
   "execution_count": 485,
   "metadata": {
    "collapsed": true
   },
   "outputs": [],
   "source": [
    "%%capture\n",
    "def num_sOTUs(biom_table):\n",
    "    return biom_table.length(axis=\"observation\")\n",
    "\n",
    "# total number of unique sOTUs between a pre/post trim table\n",
    "sOTU_nums = [[x, num_sOTUs(overlap_bioms[x])] for x in TRIM_LENGTHS]\n",
    "\n",
    "# total number of sOTUs that are unique to pre and unique post\n",
    "num_uniq = np.empty([len(TRIM_LENGTHS),2])\n",
    "pre_post_bioms = np.empty([len(TRIM_LENGTHS),2], dtype=object)\n",
    "for i in range(0,pre_pt_table.iloc[:,0:2].shape[0]): \n",
    "    for j in range(0,pre_pt_table.iloc[:,0:2].shape[1]):\n",
    "        pre_post_bioms[i,j] = pre_pt_table.iloc[i,j].view(biom.Table)\n",
    "        print(\"{:d},{:d}\".format(i,j))\n",
    "        print(\"len: {:d}\".format(len(pre_post_bioms[i,j].ids(axis=\"observation\")[0])))\n",
    "        #print(pre_post_bioms[i,j].ids(axis=\"observation\"))\n",
    "        print(\"num_sOTUs(pre_post_bioms[i,j]) {:d}\".format(num_sOTUs(pre_post_bioms[i,j]), sOTU_nums[i][1]))\n",
    "        num_uniq[i,j] = num_sOTUs(pre_post_bioms[i,j]) - sOTU_nums[i][1]\n",
    "\n",
    "# total number of samples in pre and post (really hope that doesn't fluctuate)\n",
    "def num_samples(biom_table):\n",
    "    return biom_table.length(axis=\"sample\")\n",
    "\n",
    "v_num_samples = np.vectorize(num_samples)\n",
    "m_num_samples = v_num_samples(pre_post_bioms)\n",
    "\n",
    "# total read counts per sample\n",
    "def total_read_counts(biom_table):\n",
    "    return biom_table.sum(axis=\"sample\")\n",
    "\n",
    "sample_read_count_deltas = np.empty([len(TRIM_LENGTHS),m_num_samples[0,0]]) # 4 is num samples\n",
    "for i in range(pre_post_bioms.shape[0]):\n",
    "    #sample_read_count_deltas[i] = total_read_counts(pre_post_bioms[i,1]) - \\\n",
    "    #                                total_read_counts(pre_post_bioms[i,0])\n",
    "    sample_read_count_deltas[i] = total_read_counts(pre_post_bioms[i,0]) - \\\n",
    "                                    total_read_counts(pre_post_bioms[i,1])\n",
    "        \n",
    "def s_total_read_counts(biom_table):\n",
    "    return str(biom_table.sum(axis=\"sample\"))\n",
    "v_total_read_counts = np.vectorize(s_total_read_counts)\n",
    "m_total_reads_per_sample = v_total_read_counts(pre_post_bioms)"
   ]
  },
  {
   "cell_type": "code",
   "execution_count": 486,
   "metadata": {
    "collapsed": true
   },
   "outputs": [],
   "source": [
    "# Put everything in a pandas dataframe so it is easier\n",
    "sOTU_data = pd.DataFrame()\n",
    "sOTU_nums = np.array(sOTU_nums)\n",
    "sOTU_data[\"read_length\"] = sOTU_nums[:,0]\n",
    "sOTU_data[\"overlap_count\"] = sOTU_nums[:,1]\n",
    "sOTU_data[\"unique_pre\"] = num_uniq[:,0] \n",
    "sOTU_data[\"unique_post\"] = num_uniq[:,1] \n",
    "\n",
    "sample_data = pd.DataFrame()\n",
    "sample_data[\"read_length\"] = sOTU_nums[:,0]\n",
    "sample_data[\"num_samples_pre\"] = m_num_samples[:,0]\n",
    "sample_data[\"num_samples_post\"] = m_num_samples[:,1]\n",
    "#sample_data[\"change_num_samples\"] = sample_data[\"num_samples_post\"] - sample_data[\"num_samples_pre\"]\n",
    "sample_data[\"change_num_samples\"] = sample_data[\"num_samples_pre\"] - sample_data[\"num_samples_post\"]\n",
    "\n",
    "df_sample_delta = pd.DataFrame(sample_read_count_deltas, columns = pre_post_bioms[0,0].ids(axis=\"sample\"))\n",
    "df_sample_delta.index = sOTU_nums[:,0]"
   ]
  },
  {
   "cell_type": "code",
   "execution_count": 450,
   "metadata": {},
   "outputs": [
    {
     "data": {
      "text/plain": [
       "Text(0.5,0,'Trim Length')"
      ]
     },
     "execution_count": 450,
     "metadata": {},
     "output_type": "execute_result"
    },
    {
     "data": {
      "image/png": "[encoded data removed]"
     },
     "metadata": {},
     "output_type": "display_data"
    }
   ],
   "source": [
    "%matplotlib inline\n",
    "plt.plot(sOTU_data[\"read_length\"], sOTU_data[\"overlap_count\"])\n",
    "plt.plot(sOTU_data[\"read_length\"], sOTU_data[\"unique_pre\"])\n",
    "plt.plot(sOTU_data[\"read_length\"], sOTU_data[\"unique_post\"])\n",
    "\n",
    "plt.legend(sOTU_data.columns[1:], loc='best')\n",
    "plt.title(\"sOTU counts\")\n",
    "plt.xlabel(\"Trim Length\")"
   ]
  },
  {
   "cell_type": "code",
   "execution_count": 451,
   "metadata": {},
   "outputs": [
    {
     "data": {
      "text/html": [
       "<div>\n",
       "<style scoped>\n",
       "    .dataframe tbody tr th:only-of-type {\n",
       "        vertical-align: middle;\n",
       "    }\n",
       "\n",
       "    .dataframe tbody tr th {\n",
       "        vertical-align: top;\n",
       "    }\n",
       "\n",
       "    .dataframe thead th {\n",
       "        text-align: right;\n",
       "    }\n",
       "</style>\n",
       "<table border=\"1\" class=\"dataframe\">\n",
       "  <thead>\n",
       "    <tr style=\"text-align: right;\">\n",
       "      <th></th>\n",
       "      <th>read_length</th>\n",
       "      <th>num_samples_pre</th>\n",
       "      <th>num_samples_post</th>\n",
       "      <th>change_num_samples</th>\n",
       "    </tr>\n",
       "  </thead>\n",
       "  <tbody>\n",
       "    <tr>\n",
       "      <th>0</th>\n",
       "      <td>100</td>\n",
       "      <td>3</td>\n",
       "      <td>3</td>\n",
       "      <td>0</td>\n",
       "    </tr>\n",
       "    <tr>\n",
       "      <th>1</th>\n",
       "      <td>90</td>\n",
       "      <td>3</td>\n",
       "      <td>3</td>\n",
       "      <td>0</td>\n",
       "    </tr>\n",
       "    <tr>\n",
       "      <th>2</th>\n",
       "      <td>80</td>\n",
       "      <td>3</td>\n",
       "      <td>3</td>\n",
       "      <td>0</td>\n",
       "    </tr>\n",
       "    <tr>\n",
       "      <th>3</th>\n",
       "      <td>70</td>\n",
       "      <td>3</td>\n",
       "      <td>3</td>\n",
       "      <td>0</td>\n",
       "    </tr>\n",
       "    <tr>\n",
       "      <th>4</th>\n",
       "      <td>60</td>\n",
       "      <td>3</td>\n",
       "      <td>3</td>\n",
       "      <td>0</td>\n",
       "    </tr>\n",
       "  </tbody>\n",
       "</table>\n",
       "</div>"
      ]
     },
     "metadata": {},
     "output_type": "execute_result"
    }
   ],
   "source": [
    "sample_data"
   ]
  },
  {
   "cell_type": "code",
   "execution_count": 453,
   "metadata": {},
   "outputs": [
    {
     "data": {
      "text/plain": [
       "Text(0.5,0,'Trim Length')"
      ]
     },
     "execution_count": 453,
     "metadata": {},
     "output_type": "execute_result"
    },
    {
     "data": {
      "image/png": "[encoded data removed]"
     },
     "metadata": {},
     "output_type": "display_data"
    }
   ],
   "source": [
    "%matplotlib inline\n",
    "for colname in df_sample_delta.columns:\n",
    "    plt.plot(df_sample_delta.index, df_sample_delta[colname])\n",
    "\n",
    "plt.legend(df_sample_delta.columns, loc='best')\n",
    "plt.title(\"pre - post: reads-per-sample count\")\n",
    "plt.xlabel(\"Trim Length\")"
   ]
  },
  {
   "cell_type": "code",
   "execution_count": 351,
   "metadata": {},
   "outputs": [
    {
     "data": {
      "text/plain": [
       "array([['[ 72506.  48299.  64229.]', '[ 72506.  48299.  64229.]'],\n",
       "       ['[ 76233.  50805.  67633.]', '[ 72506.  48299.  64229.]'],\n",
       "       ['[ 77725.  51776.  69417.]', '[ 72506.  48299.  64229.]'],\n",
       "       ['[ 79499.  53166.  71668.]', '[ 72506.  48299.  64229.]'],\n",
       "       ['[ 80263.  53582.  72576.]', '[ 72506.  48299.  64229.]']], \n",
       "      dtype='<U25')"
      ]
     },
     "execution_count": 351,
     "metadata": {},
     "output_type": "execute_result"
    }
   ],
   "source": [
    "m_total_reads_per_sample"
   ]
  },
  {
   "cell_type": "code",
   "execution_count": 352,
   "metadata": {},
   "outputs": [
    {
     "data": {
      "text/html": [
       "<div>\n",
       "<style scoped>\n",
       "    .dataframe tbody tr th:only-of-type {\n",
       "        vertical-align: middle;\n",
       "    }\n",
       "\n",
       "    .dataframe tbody tr th {\n",
       "        vertical-align: top;\n",
       "    }\n",
       "\n",
       "    .dataframe thead th {\n",
       "        text-align: right;\n",
       "    }\n",
       "</style>\n",
       "<table border=\"1\" class=\"dataframe\">\n",
       "  <thead>\n",
       "    <tr style=\"text-align: right;\">\n",
       "      <th></th>\n",
       "      <th>trim_length</th>\n",
       "      <th>dist_type</th>\n",
       "      <th>r</th>\n",
       "      <th>pval</th>\n",
       "      <th>nsamples</th>\n",
       "      <th>r_sq</th>\n",
       "    </tr>\n",
       "  </thead>\n",
       "  <tbody>\n",
       "    <tr>\n",
       "      <th>0</th>\n",
       "      <td>100</td>\n",
       "      <td>jaccard</td>\n",
       "      <td>1.000000</td>\n",
       "      <td>0.173</td>\n",
       "      <td>3</td>\n",
       "      <td>1.000000</td>\n",
       "    </tr>\n",
       "    <tr>\n",
       "      <th>1</th>\n",
       "      <td>100</td>\n",
       "      <td>braycurtis</td>\n",
       "      <td>1.000000</td>\n",
       "      <td>0.155</td>\n",
       "      <td>3</td>\n",
       "      <td>1.000000</td>\n",
       "    </tr>\n",
       "    <tr>\n",
       "      <th>2</th>\n",
       "      <td>90</td>\n",
       "      <td>jaccard</td>\n",
       "      <td>0.989154</td>\n",
       "      <td>0.173</td>\n",
       "      <td>3</td>\n",
       "      <td>0.978425</td>\n",
       "    </tr>\n",
       "    <tr>\n",
       "      <th>3</th>\n",
       "      <td>90</td>\n",
       "      <td>braycurtis</td>\n",
       "      <td>0.999626</td>\n",
       "      <td>0.177</td>\n",
       "      <td>3</td>\n",
       "      <td>0.999252</td>\n",
       "    </tr>\n",
       "    <tr>\n",
       "      <th>4</th>\n",
       "      <td>80</td>\n",
       "      <td>jaccard</td>\n",
       "      <td>0.928324</td>\n",
       "      <td>0.332</td>\n",
       "      <td>3</td>\n",
       "      <td>0.861786</td>\n",
       "    </tr>\n",
       "    <tr>\n",
       "      <th>5</th>\n",
       "      <td>80</td>\n",
       "      <td>braycurtis</td>\n",
       "      <td>0.996112</td>\n",
       "      <td>0.169</td>\n",
       "      <td>3</td>\n",
       "      <td>0.992239</td>\n",
       "    </tr>\n",
       "    <tr>\n",
       "      <th>6</th>\n",
       "      <td>70</td>\n",
       "      <td>jaccard</td>\n",
       "      <td>1.000000</td>\n",
       "      <td>0.153</td>\n",
       "      <td>3</td>\n",
       "      <td>1.000000</td>\n",
       "    </tr>\n",
       "    <tr>\n",
       "      <th>7</th>\n",
       "      <td>70</td>\n",
       "      <td>braycurtis</td>\n",
       "      <td>0.984709</td>\n",
       "      <td>0.179</td>\n",
       "      <td>3</td>\n",
       "      <td>0.969652</td>\n",
       "    </tr>\n",
       "    <tr>\n",
       "      <th>8</th>\n",
       "      <td>60</td>\n",
       "      <td>jaccard</td>\n",
       "      <td>1.000000</td>\n",
       "      <td>0.164</td>\n",
       "      <td>3</td>\n",
       "      <td>1.000000</td>\n",
       "    </tr>\n",
       "    <tr>\n",
       "      <th>9</th>\n",
       "      <td>60</td>\n",
       "      <td>braycurtis</td>\n",
       "      <td>0.967385</td>\n",
       "      <td>0.314</td>\n",
       "      <td>3</td>\n",
       "      <td>0.935834</td>\n",
       "    </tr>\n",
       "  </tbody>\n",
       "</table>\n",
       "</div>"
      ]
     },
     "metadata": {},
     "output_type": "execute_result"
    }
   ],
   "source": [
    "from skbio.stats.distance import mantel\n",
    "\n",
    "# Get pairwise distances between each sample\n",
    "cols = [\"trim_length\", \"dist_type\", \"r\", \"pval\", \"nsamples\"]\n",
    "pairwise_diversity = pd.DataFrame(columns=cols)\n",
    "for i in range(pre_pt_table.shape[0]):\n",
    "    pre = pre_pt_table.iloc[i,0]\n",
    "    post = pre_pt_table.iloc[i,1]\n",
    "    \n",
    "    pre_d_j = get_pairwise_dist_mat(pre, \"jaccard\")\n",
    "    post_d_j = get_pairwise_dist_mat(post, \"jaccard\")\n",
    "    r, p, nsamp = mantel(pre_d_j, post_d_j)\n",
    "    trim_length = TRIM_LENGTHS[i]\n",
    "    pairwise_diversity = pairwise_diversity.append(dict(zip(cols, [trim_length, \"jaccard\", r, p, nsamp])),\n",
    "                                                   ignore_index=True) \n",
    "    \n",
    "    pre_d_bc = get_pairwise_dist_mat(pre, \"braycurtis\")\n",
    "    post_d_bc = get_pairwise_dist_mat(post, \"braycurtis\")\n",
    "    r, p, nsamp = mantel(pre_d_bc, post_d_bc)\n",
    "    pairwise_diversity = pairwise_diversity.append(dict(zip(cols, [trim_length, \"braycurtis\", r, p, nsamp])),\n",
    "                                                   ignore_index=True) \n",
    "    \n",
    "pairwise_diversity[\"r_sq\"] = pairwise_diversity[\"r\"]**2\n",
    "pairwise_diversity"
   ]
  },
  {
   "cell_type": "code",
   "execution_count": 274,
   "metadata": {},
   "outputs": [
    {
     "data": {
      "text/plain": [
       "<seaborn.axisgrid.FacetGrid at 0x1a21238a58>"
      ]
     },
     "execution_count": 274,
     "metadata": {},
     "output_type": "execute_result"
    },
    {
     "data": {
      "image/png": "[encoded data removed]"
     },
     "metadata": {},
     "output_type": "display_data"
    }
   ],
   "source": [
    "import seaborn as sns\n",
    "ax = sns.lmplot(x=\"trim_length\", y=\"r_sq\", row=\"dist_type\", hue=\"dist_type\",\n",
    "           data=pairwise_diversity, ci=None, fit_reg=False)\n",
    "ax.set(xlabel=\"trim length\")"
   ]
  },
  {
   "cell_type": "code",
   "execution_count": null,
   "metadata": {
    "collapsed": true
   },
   "outputs": [],
   "source": [
    "# For each length, do mantel test between the two freq tables\n",
    "# First, make the tables only have"
   ]
  },
  {
   "cell_type": "code",
   "execution_count": 421,
   "metadata": {},
   "outputs": [
    {
     "data": {
      "text/plain": [
       "[Text(0.5,0,'trim_length'),\n",
       " Text(0.5,1,'Distribution of distances between matching pre/post otus')]"
      ]
     },
     "execution_count": 421,
     "metadata": {},
     "output_type": "execute_result"
    },
    {
     "data": {
      "image/png": "[encoded data removed]"
     },
     "metadata": {},
     "output_type": "display_data"
    }
   ],
   "source": [
    "ax = sns.boxplot(x=\"length\", y=\"dist\", data=dists_overlaps, hue=\"dist_type\")\n",
    "ax.set(xlabel=\"trim_length\", title=\"Distribution of distances between matching pre/post otus\")"
   ]
  },
  {
   "cell_type": "code",
   "execution_count": 439,
   "metadata": {},
   "outputs": [
    {
     "data": {
      "text/plain": [
       "array([ 72506.,  48299.,  64229.])"
      ]
     },
     "execution_count": 439,
     "metadata": {},
     "output_type": "execute_result"
    }
   ],
   "source": [
    "pre_pt_table.iloc[0,0].view(biom.Table).sum(axis=\"sample\")"
   ]
  },
  {
   "cell_type": "code",
   "execution_count": 490,
   "metadata": {},
   "outputs": [
    {
     "data": {
      "text/html": [
       "<div>\n",
       "<style scoped>\n",
       "    .dataframe tbody tr th:only-of-type {\n",
       "        vertical-align: middle;\n",
       "    }\n",
       "\n",
       "    .dataframe tbody tr th {\n",
       "        vertical-align: top;\n",
       "    }\n",
       "\n",
       "    .dataframe thead th {\n",
       "        text-align: right;\n",
       "    }\n",
       "</style>\n",
       "<table border=\"1\" class=\"dataframe\">\n",
       "  <thead>\n",
       "    <tr style=\"text-align: right;\">\n",
       "      <th></th>\n",
       "      <th>pre</th>\n",
       "      <th>post</th>\n",
       "      <th>length</th>\n",
       "      <th>pre_overlap</th>\n",
       "      <th>post_overlap</th>\n",
       "    </tr>\n",
       "  </thead>\n",
       "  <tbody>\n",
       "    <tr>\n",
       "      <th>0</th>\n",
       "      <td>&lt;artifact: FeatureTable[Frequency] uuid: f10ad...</td>\n",
       "      <td>&lt;artifact: FeatureTable[Frequency] uuid: ca600...</td>\n",
       "      <td>100</td>\n",
       "      <td># Constructed from biom file\\n#OTU ID\\tEven1\\t...</td>\n",
       "      <td># Constructed from biom file\\n#OTU ID\\tEven1\\t...</td>\n",
       "    </tr>\n",
       "    <tr>\n",
       "      <th>1</th>\n",
       "      <td>&lt;artifact: FeatureTable[Frequency] uuid: 97568...</td>\n",
       "      <td>&lt;artifact: FeatureTable[Frequency] uuid: 784ed...</td>\n",
       "      <td>90</td>\n",
       "      <td># Constructed from biom file\\n#OTU ID\\tEven1\\t...</td>\n",
       "      <td># Constructed from biom file\\n#OTU ID\\tEven1\\t...</td>\n",
       "    </tr>\n",
       "    <tr>\n",
       "      <th>2</th>\n",
       "      <td>&lt;artifact: FeatureTable[Frequency] uuid: 675ff...</td>\n",
       "      <td>&lt;artifact: FeatureTable[Frequency] uuid: 566cc...</td>\n",
       "      <td>80</td>\n",
       "      <td># Constructed from biom file\\n#OTU ID\\tEven1\\t...</td>\n",
       "      <td># Constructed from biom file\\n#OTU ID\\tEven1\\t...</td>\n",
       "    </tr>\n",
       "    <tr>\n",
       "      <th>3</th>\n",
       "      <td>&lt;artifact: FeatureTable[Frequency] uuid: 8ccc6...</td>\n",
       "      <td>&lt;artifact: FeatureTable[Frequency] uuid: 73177...</td>\n",
       "      <td>70</td>\n",
       "      <td># Constructed from biom file\\n#OTU ID\\tEven1\\t...</td>\n",
       "      <td># Constructed from biom file\\n#OTU ID\\tEven1\\t...</td>\n",
       "    </tr>\n",
       "    <tr>\n",
       "      <th>4</th>\n",
       "      <td>&lt;artifact: FeatureTable[Frequency] uuid: 64b59...</td>\n",
       "      <td>&lt;artifact: FeatureTable[Frequency] uuid: a9089...</td>\n",
       "      <td>60</td>\n",
       "      <td># Constructed from biom file\\n#OTU ID\\tEven1\\t...</td>\n",
       "      <td># Constructed from biom file\\n#OTU ID\\tEven1\\t...</td>\n",
       "    </tr>\n",
       "  </tbody>\n",
       "</table>\n",
       "</div>"
      ]
     },
     "metadata": {},
     "output_type": "execute_result"
    }
   ],
   "source": [
    "#foo = establish_dataset(demuxed, pre_trim_length=101, num_cores=NUM_CORES)\n",
    "pre_pt_table"
   ]
  },
  {
   "cell_type": "markdown",
   "metadata": {},
   "source": [
    "# Dan meeting notes\n",
    "- Do distances beteen features.eg. feature/otu A is in pre and post make df of cols = featureA featureB, trim length, dist_type, 0.1 plot distribution of distances this is NOT pairwise want to see trim length ! effect distribution\n",
    "\n",
    "- new plot\n",
    "    x-axis pre trim\n",
    "    y-axis post trim\n",
    "    plot r^2 values NAWWW lol\n",
    "\n",
    "- IDEAS ON HOW TO VISUALIZE?\n",
    "    - compare pre and post trims of same length\n",
    "\n",
    "- transition to repo, outside of notebooks decouple compute and visualization \n",
    "- dan on road next week"
   ]
  },
  {
   "cell_type": "markdown",
   "metadata": {},
   "source": [
    "# Plan to code-ify pipeline\n",
    "\n",
    "Goal: Determine whether deblurring and trimming after the fact is different than re-deblurring to post trim length.\n",
    "\n",
    "## Plan\n",
    "### Requirements\n",
    "- Easily ran on datasets\n",
    "- Can aggregate the data of all the runs\n",
    "- Modular so if one section fails, do not need to re-run everything\n",
    "\n",
    "\n",
    "### How do we aggregate data? / Aggregate metrics\n",
    "- Issue, trim lengths are depending on dataset!\n",
    "- Solution: Have two pools, 150nt, 100nt (fair amount of coding)\n",
    "- Do trim lengths as percentage of original length\n",
    "    - 60, 70, 80, 90, 100%\n",
    "    - pre - post, sotu count plots need to change to percent change rather than counts\n",
    "    \n",
    "\n",
    "### Inputs\n",
    "- input folder, path to folder that holds the fo\n",
    "    - seqs: file called \"sequnces.fastq.gz\"\n",
    "    - barcodes: file called \"barcodes.fastq.gz\"\n",
    "- trim length increment: default 10\n",
    "- num of trim lengths: default 5 ** INCLUDES 100% **\n",
    "- num cores: default 1\n",
    "- rev_map_bc: true or false, default false\n",
    "- rev_bc: true or false, default false\n",
    "- output-dir: default same level as input dir\n",
    "- max trim length: OPTIONAL\n",
    "\n",
    "### Outputs\n",
    "- Demuxed qza\n",
    "- Deblurred qza, Deblurred_pt qza\n",
    "- tsv's that we can easily plot, in subdir called \"data\" (make into 1 tsv if possible)\n",
    "- pdf of plots\n",
    "\n",
    "\n",
    "### Phases\n",
    "1. Demux\n",
    "2. Deblur pre trim all lengths\n",
    "3. Post trimming\n",
    "4. Analysis\n",
    "5. Plotting\n",
    "6. Aggregate plots\n",
    "\n",
    "## Implementation\n",
    "One script per phase, lots of output so we know which phase failed\n",
    "1-5 Should be grouped together in a master script. Maybe make a script that combines 1-5 and 6 so we can run on many datasets and then aggregate.\n",
    "\n",
    "### Phase 1: Demux\n",
    "#### Inputs\n",
    "- input folder, path to folder that holds the fo\n",
    "    - seqs: file called \"sequnces.fastq.gz\"\n",
    "    - barcodes: file called \"barcodes.fastq.gz\"\n",
    "- rev_map_bc: true or false, default false\n",
    "- rev_bc: true or false, default false\n",
    "- output-dir: default same level as input dir\n",
    "\n",
    "#### Outputs\n",
    "- Demuxed seqs as qza OR python artifact\n",
    "\n",
    "#### Psuedocode\n",
    "\n",
    "```\n",
    "Demux the sequences\n",
    "Save the qza to output-dir\n",
    "```\n",
    "\n",
    "### Phase 2: Deblur\n",
    "#### Inputs\n",
    "- input: path to demuxed qza OR python artifact \n",
    "    - Do type enforcement!\n",
    "- trim length increment: default 10\n",
    "- num of trim lengths: default 5 ** INCLUDES 100% **\n",
    "- output-dir: default same level as input dir\n",
    "- max trim length: OPTIONAL b/c calculating it could significantly increase runtime\n",
    "\n",
    "#### Outputs\n",
    "- deblurred seqs for various lengths as qza and/or artifacts\n",
    "\n",
    "#### Pseudocode\n",
    "\n",
    "```\n",
    "if(using a qza)\n",
    "    load the qza to python artifact\n",
    "    \n",
    "if(max trim length not provided)\n",
    "    find it out using demuxed\n",
    "\n",
    "calculate trim lengths, save to list L\n",
    "\n",
    "for each trim length in L\n",
    "   quality filter the python artifact\n",
    "   deblur it using pre trim length L\n",
    "   save qza of deblurred for output dir\n",
    "```\n",
    "\n",
    "### Phase 3: Post-trim\n",
    "#### Inputs\n",
    "- input: path to deblurred qza OR python artifact\n",
    "    - Do type enforcement!\n",
    "    - should be max length\n",
    "- trim length increment: default 10\n",
    "- num of trim lengths: default 5 ** INCLUDES 100% **\n",
    "- max trim length: OPTIONAL not a big deal because it can be easily inferred\n",
    "- output-dir: default same level as input dir\n",
    "\n",
    "#### Outputs\n",
    "- deblurred seqs for various lengths as qza and/or artifacts\n",
    "\n",
    "#### Pseudocode\n",
    "\n",
    "```\n",
    "if(using a qza)\n",
    "    load the deblurred.qza to python artifact // max length pre-trim\n",
    "    \n",
    "if(max trim length not provided)\n",
    "    find it out. It is the length of any seq in the deblurred qza\n",
    "\n",
    "calculate trim lengths, save to list L\n",
    "\n",
    "for each trim length in L\n",
    "   post-trim the artifact\n",
    "   save qza of deblurred for output dir\n",
    "```\n",
    "\n",
    "### Phase 4: Analysis\n",
    "#### Inputs\n",
    "- all pre-trim and post-trim qzas OR python artifacts\n",
    "- output dir\n",
    "\n",
    "#### Outputs\n",
    "- tsv disances between pre, post otus\n",
    "- tsv for sOTU counts and pre - post, include percentages col\n",
    "- tsv for mantel test\n",
    "- all exported to output_dir/data\n",
    "\n",
    "#### Pseudocode\n",
    "\n",
    "```\n",
    "if(using qzas)\n",
    "    load all of them to python artifacts\n",
    "\n",
    "# Distance pre to post plots\n",
    "# Histograms of BC + Jaccard\n",
    "# Box plots of distributions by trim length\n",
    "# Histograms for each trim length\n",
    "Make single pandas dataframe\n",
    "export it to csv\n",
    "\n",
    "# sOTU counts by trim length\n",
    "# Pre - post reads per sample counts\n",
    "Do as percentages, put in pandas dataframe\n",
    "export as tsv\n",
    "\n",
    "\n",
    "# Pairwise distance Mantel test \n",
    "# R squared vs. trim length\n",
    "Export a csv\n",
    "```\n",
    "\n",
    "### Phase 5: Plotting\n",
    "#### Inputs\n",
    "- paths to (ideally all in one dir): \n",
    "    - tsv disances between pre, post otus\n",
    "    - tsv for sOTU counts and pre - post, include percentages col\n",
    "    - tsv for mantel test\n",
    "    \n",
    "#### Outputs\n",
    "- pdf with all the plots\n",
    "\n",
    "### Phase 6: Aggregate\n",
    "#### Inputs \n",
    "- Many of these:\n",
    "    - tsv disances between pre, post otus\n",
    "    - tsv for sOTU counts and pre - post, include percentages col\n",
    "    - tsv for mantel test\n",
    "    \n",
    "#### Outputs\n",
    "- Concatenated tsv's in output dir\n",
    "- Plots"
   ]
  },
  {
   "cell_type": "code",
   "execution_count": 6,
   "metadata": {},
   "outputs": [
    {
     "data": {
      "text/plain": [
       "<artifact: SampleData[SequencesWithQuality] uuid: 28044dee-0682-4d6a-ae62-2456ec1ae17c>"
      ]
     },
     "execution_count": 6,
     "metadata": {},
     "output_type": "execute_result"
    }
   ],
   "source": [
    "demuxed"
   ]
  },
  {
   "cell_type": "code",
   "execution_count": 19,
   "metadata": {},
   "outputs": [],
   "source": [
    "import numpy as np\n",
    "foo = biom.Table(np.array([[1,1,0],[0,2,3]]),\n",
    "              ['A', 'B'], ['S1', 'S2','S3'])\n",
    "dmat = get_pairwise_dist_mat(foo,\"braycurtis\")"
   ]
  },
  {
   "cell_type": "code",
   "execution_count": 20,
   "metadata": {},
   "outputs": [
    {
     "data": {
      "text/plain": [
       "array([[ 0.        ,  0.5       ,  1.        ],\n",
       "       [ 0.5       ,  0.        ,  0.33333333],\n",
       "       [ 1.        ,  0.33333333,  0.        ]])"
      ]
     },
     "execution_count": 20,
     "metadata": {},
     "output_type": "execute_result"
    }
   ],
   "source": [
    "dmat.data"
   ]
  },
  {
   "cell_type": "code",
   "execution_count": 21,
   "metadata": {},
   "outputs": [
    {
     "name": "stdout",
     "output_type": "stream",
     "text": [
      "# Constructed from biom file\n",
      "#OTU ID\tS1\tS2\tS3\n",
      "A\t1.0\t1.0\t0.0\n",
      "B\t0.0\t2.0\t3.0\n"
     ]
    }
   ],
   "source": [
    "print(foo)"
   ]
  },
  {
   "cell_type": "code",
   "execution_count": null,
   "metadata": {
    "collapsed": true
   },
   "outputs": [],
   "source": []
  }
 ],
 "metadata": {
  "kernelspec": {
   "display_name": "Python [conda env:qiime2-2017.11]",
   "language": "python",
   "name": "conda-env-qiime2-2017.11-py"
  },
  "language_info": {
   "codemirror_mode": {
    "name": "ipython",
    "version": 3
   },
   "file_extension": ".py",
   "mimetype": "text/x-python",
   "name": "python",
   "nbconvert_exporter": "python",
   "pygments_lexer": "ipython3",
   "version": "3.5.4"
  }
 },
 "nbformat": 4,
 "nbformat_minor": 2
}
